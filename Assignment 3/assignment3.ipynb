{
  "nbformat": 4,
  "nbformat_minor": 0,
  "metadata": {
    "colab": {
      "name": "assignment3.ipynb",
      "provenance": [],
      "collapsed_sections": []
    },
    "kernelspec": {
      "name": "python3",
      "display_name": "Python 3"
    }
  },
  "cells": [
    {
      "cell_type": "markdown",
      "metadata": {
        "id": "xKaxjst5lsLs",
        "colab_type": "text"
      },
      "source": [
        "**Course Name** : Pattern Recognition Lab\n",
        "\n",
        "**Course No** : CSE4214\n",
        "\n",
        "**Experiment Name** : Implementing Minimum Error Rate Classifier \n",
        "\n",
        "**Name** : Sanzana Karim Lora\n",
        "\n",
        
      ]
    },
    {
      "cell_type": "markdown",
      "metadata": {
        "id": "-jhg4vAYmFC2",
        "colab_type": "text"
      },
      "source": [
        "# **Task 1:** Split the given data into train set and test set in a 60:40 ratio. "
      ]
    },
    {
      "cell_type": "code",
      "metadata": {
        "id": "bHsh121_lvT4",
        "colab_type": "code",
        "colab": {}
      },
      "source": [
        "import pandas as pd\n",
        "import numpy as np\n",
        "import math\n",
        "from matplotlib import pyplot as plt\n",
        "from sklearn.model_selection import train_test_split"
      ],
      "execution_count": 69,
      "outputs": []
    },
    {
      "cell_type": "code",
      "metadata": {
        "id": "1tYFZg_pUC65",
        "colab_type": "code",
        "colab": {
          "base_uri": "https://localhost:8080/",
          "height": 34
        },
        "outputId": "f6c7653d-d5b9-49a2-fa26-7abc1fc12ec0"
      },
      "source": [
        "from google.colab import drive\n",
        "drive.mount('/content/drive')\n",
        "main_directory = '/content/drive/My Drive/Pattern lab/Assignments/assignment 3/Data_csv.csv'"
      ],
      "execution_count": 70,
      "outputs": [
        {
          "output_type": "stream",
          "text": [
            "Drive already mounted at /content/drive; to attempt to forcibly remount, call drive.mount(\"/content/drive\", force_remount=True).\n"
          ],
          "name": "stdout"
        }
      ]
    },
    {
      "cell_type": "code",
      "metadata": {
        "id": "kqhR50w6UqSs",
        "colab_type": "code",
        "colab": {
          "base_uri": "https://localhost:8080/",
          "height": 419
        },
        "outputId": "30e2f766-b5a2-4084-b5c1-b7d15c3ecefa"
      },
      "source": [
        "df = pd.read_csv(main_directory)\n",
        "df"
      ],
      "execution_count": 71,
      "outputs": [
        {
          "output_type": "execute_result",
          "data": {
            "text/html": [
              "<div>\n",
              "<style scoped>\n",
              "    .dataframe tbody tr th:only-of-type {\n",
              "        vertical-align: middle;\n",
              "    }\n",
              "\n",
              "    .dataframe tbody tr th {\n",
              "        vertical-align: top;\n",
              "    }\n",
              "\n",
              "    .dataframe thead th {\n",
              "        text-align: right;\n",
              "    }\n",
              "</style>\n",
              "<table border=\"1\" class=\"dataframe\">\n",
              "  <thead>\n",
              "    <tr style=\"text-align: right;\">\n",
              "      <th></th>\n",
              "      <th>Feature1</th>\n",
              "      <th>Feature2</th>\n",
              "      <th>Class</th>\n",
              "    </tr>\n",
              "  </thead>\n",
              "  <tbody>\n",
              "    <tr>\n",
              "      <th>0</th>\n",
              "      <td>1.7044</td>\n",
              "      <td>3.6651</td>\n",
              "      <td>1</td>\n",
              "    </tr>\n",
              "    <tr>\n",
              "      <th>1</th>\n",
              "      <td>1.6726</td>\n",
              "      <td>4.6705</td>\n",
              "      <td>1</td>\n",
              "    </tr>\n",
              "    <tr>\n",
              "      <th>2</th>\n",
              "      <td>1.4597</td>\n",
              "      <td>4.1940</td>\n",
              "      <td>1</td>\n",
              "    </tr>\n",
              "    <tr>\n",
              "      <th>3</th>\n",
              "      <td>1.9761</td>\n",
              "      <td>4.1965</td>\n",
              "      <td>1</td>\n",
              "    </tr>\n",
              "    <tr>\n",
              "      <th>4</th>\n",
              "      <td>2.1897</td>\n",
              "      <td>3.1463</td>\n",
              "      <td>1</td>\n",
              "    </tr>\n",
              "    <tr>\n",
              "      <th>...</th>\n",
              "      <td>...</td>\n",
              "      <td>...</td>\n",
              "      <td>...</td>\n",
              "    </tr>\n",
              "    <tr>\n",
              "      <th>95</th>\n",
              "      <td>7.8985</td>\n",
              "      <td>9.7286</td>\n",
              "      <td>2</td>\n",
              "    </tr>\n",
              "    <tr>\n",
              "      <th>96</th>\n",
              "      <td>7.2435</td>\n",
              "      <td>10.4561</td>\n",
              "      <td>2</td>\n",
              "    </tr>\n",
              "    <tr>\n",
              "      <th>97</th>\n",
              "      <td>7.4368</td>\n",
              "      <td>9.9139</td>\n",
              "      <td>2</td>\n",
              "    </tr>\n",
              "    <tr>\n",
              "      <th>98</th>\n",
              "      <td>7.5925</td>\n",
              "      <td>9.8320</td>\n",
              "      <td>2</td>\n",
              "    </tr>\n",
              "    <tr>\n",
              "      <th>99</th>\n",
              "      <td>8.1833</td>\n",
              "      <td>10.2707</td>\n",
              "      <td>2</td>\n",
              "    </tr>\n",
              "  </tbody>\n",
              "</table>\n",
              "<p>100 rows × 3 columns</p>\n",
              "</div>"
            ],
            "text/plain": [
              "    Feature1  Feature2  Class\n",
              "0     1.7044    3.6651      1\n",
              "1     1.6726    4.6705      1\n",
              "2     1.4597    4.1940      1\n",
              "3     1.9761    4.1965      1\n",
              "4     2.1897    3.1463      1\n",
              "..       ...       ...    ...\n",
              "95    7.8985    9.7286      2\n",
              "96    7.2435   10.4561      2\n",
              "97    7.4368    9.9139      2\n",
              "98    7.5925    9.8320      2\n",
              "99    8.1833   10.2707      2\n",
              "\n",
              "[100 rows x 3 columns]"
            ]
          },
          "metadata": {
            "tags": []
          },
          "execution_count": 71
        }
      ]
    },
    {
      "cell_type": "code",
      "metadata": {
        "id": "38b27A06mtnX",
        "colab_type": "code",
        "colab": {}
      },
      "source": [
        "train, test = train_test_split(df, train_size = 0.6, test_size = 0.4, random_state=42, shuffle=True)"
      ],
      "execution_count": 72,
      "outputs": []
    },
    {
      "cell_type": "code",
      "metadata": {
        "id": "znEqDldfyKPA",
        "colab_type": "code",
        "colab": {
          "base_uri": "https://localhost:8080/",
          "height": 51
        },
        "outputId": "c2b4739c-fa1e-4309-d59e-7804044eea4e"
      },
      "source": [
        "print(train.shape)\n",
        "print(test.shape)"
      ],
      "execution_count": 73,
      "outputs": [
        {
          "output_type": "stream",
          "text": [
            "(60, 3)\n",
            "(40, 3)\n"
          ],
          "name": "stdout"
        }
      ]
    },
    {
      "cell_type": "code",
      "metadata": {
        "id": "XfuPtGSyyYEg",
        "colab_type": "code",
        "colab": {
          "base_uri": "https://localhost:8080/",
          "height": 1000
        },
        "outputId": "66c7511c-a2fd-414b-c74b-b186fa758b42"
      },
      "source": [
        "train"
      ],
      "execution_count": 74,
      "outputs": [
        {
          "output_type": "execute_result",
          "data": {
            "text/html": [
              "<div>\n",
              "<style scoped>\n",
              "    .dataframe tbody tr th:only-of-type {\n",
              "        vertical-align: middle;\n",
              "    }\n",
              "\n",
              "    .dataframe tbody tr th {\n",
              "        vertical-align: top;\n",
              "    }\n",
              "\n",
              "    .dataframe thead th {\n",
              "        text-align: right;\n",
              "    }\n",
              "</style>\n",
              "<table border=\"1\" class=\"dataframe\">\n",
              "  <thead>\n",
              "    <tr style=\"text-align: right;\">\n",
              "      <th></th>\n",
              "      <th>Feature1</th>\n",
              "      <th>Feature2</th>\n",
              "      <th>Class</th>\n",
              "    </tr>\n",
              "  </thead>\n",
              "  <tbody>\n",
              "    <tr>\n",
              "      <th>49</th>\n",
              "      <td>1.3862</td>\n",
              "      <td>4.9352</td>\n",
              "      <td>1</td>\n",
              "    </tr>\n",
              "    <tr>\n",
              "      <th>34</th>\n",
              "      <td>1.3720</td>\n",
              "      <td>2.8472</td>\n",
              "      <td>1</td>\n",
              "    </tr>\n",
              "    <tr>\n",
              "      <th>7</th>\n",
              "      <td>1.9820</td>\n",
              "      <td>3.6816</td>\n",
              "      <td>1</td>\n",
              "    </tr>\n",
              "    <tr>\n",
              "      <th>95</th>\n",
              "      <td>7.8985</td>\n",
              "      <td>9.7286</td>\n",
              "      <td>2</td>\n",
              "    </tr>\n",
              "    <tr>\n",
              "      <th>27</th>\n",
              "      <td>2.8099</td>\n",
              "      <td>3.0414</td>\n",
              "      <td>1</td>\n",
              "    </tr>\n",
              "    <tr>\n",
              "      <th>19</th>\n",
              "      <td>0.9956</td>\n",
              "      <td>4.3358</td>\n",
              "      <td>1</td>\n",
              "    </tr>\n",
              "    <tr>\n",
              "      <th>81</th>\n",
              "      <td>7.6693</td>\n",
              "      <td>10.0414</td>\n",
              "      <td>2</td>\n",
              "    </tr>\n",
              "    <tr>\n",
              "      <th>25</th>\n",
              "      <td>1.7936</td>\n",
              "      <td>4.7678</td>\n",
              "      <td>1</td>\n",
              "    </tr>\n",
              "    <tr>\n",
              "      <th>62</th>\n",
              "      <td>8.0842</td>\n",
              "      <td>10.3062</td>\n",
              "      <td>2</td>\n",
              "    </tr>\n",
              "    <tr>\n",
              "      <th>13</th>\n",
              "      <td>1.7511</td>\n",
              "      <td>4.6866</td>\n",
              "      <td>1</td>\n",
              "    </tr>\n",
              "    <tr>\n",
              "      <th>24</th>\n",
              "      <td>1.5454</td>\n",
              "      <td>3.4763</td>\n",
              "      <td>1</td>\n",
              "    </tr>\n",
              "    <tr>\n",
              "      <th>3</th>\n",
              "      <td>1.9761</td>\n",
              "      <td>4.1965</td>\n",
              "      <td>1</td>\n",
              "    </tr>\n",
              "    <tr>\n",
              "      <th>17</th>\n",
              "      <td>1.6219</td>\n",
              "      <td>4.4126</td>\n",
              "      <td>1</td>\n",
              "    </tr>\n",
              "    <tr>\n",
              "      <th>38</th>\n",
              "      <td>1.7138</td>\n",
              "      <td>3.7970</td>\n",
              "      <td>1</td>\n",
              "    </tr>\n",
              "    <tr>\n",
              "      <th>8</th>\n",
              "      <td>1.9126</td>\n",
              "      <td>3.4987</td>\n",
              "      <td>1</td>\n",
              "    </tr>\n",
              "    <tr>\n",
              "      <th>78</th>\n",
              "      <td>8.6967</td>\n",
              "      <td>10.3766</td>\n",
              "      <td>2</td>\n",
              "    </tr>\n",
              "    <tr>\n",
              "      <th>6</th>\n",
              "      <td>1.7501</td>\n",
              "      <td>4.3428</td>\n",
              "      <td>1</td>\n",
              "    </tr>\n",
              "    <tr>\n",
              "      <th>64</th>\n",
              "      <td>7.6475</td>\n",
              "      <td>9.6692</td>\n",
              "      <td>2</td>\n",
              "    </tr>\n",
              "    <tr>\n",
              "      <th>36</th>\n",
              "      <td>1.9005</td>\n",
              "      <td>4.1954</td>\n",
              "      <td>1</td>\n",
              "    </tr>\n",
              "    <tr>\n",
              "      <th>89</th>\n",
              "      <td>7.4960</td>\n",
              "      <td>10.6297</td>\n",
              "      <td>2</td>\n",
              "    </tr>\n",
              "    <tr>\n",
              "      <th>56</th>\n",
              "      <td>6.8104</td>\n",
              "      <td>10.0517</td>\n",
              "      <td>2</td>\n",
              "    </tr>\n",
              "    <tr>\n",
              "      <th>99</th>\n",
              "      <td>8.1833</td>\n",
              "      <td>10.2707</td>\n",
              "      <td>2</td>\n",
              "    </tr>\n",
              "    <tr>\n",
              "      <th>54</th>\n",
              "      <td>7.5115</td>\n",
              "      <td>9.7729</td>\n",
              "      <td>2</td>\n",
              "    </tr>\n",
              "    <tr>\n",
              "      <th>43</th>\n",
              "      <td>2.1146</td>\n",
              "      <td>3.8957</td>\n",
              "      <td>1</td>\n",
              "    </tr>\n",
              "    <tr>\n",
              "      <th>50</th>\n",
              "      <td>7.3955</td>\n",
              "      <td>9.7069</td>\n",
              "      <td>2</td>\n",
              "    </tr>\n",
              "    <tr>\n",
              "      <th>67</th>\n",
              "      <td>8.1146</td>\n",
              "      <td>9.9617</td>\n",
              "      <td>2</td>\n",
              "    </tr>\n",
              "    <tr>\n",
              "      <th>46</th>\n",
              "      <td>1.7562</td>\n",
              "      <td>3.3273</td>\n",
              "      <td>1</td>\n",
              "    </tr>\n",
              "    <tr>\n",
              "      <th>68</th>\n",
              "      <td>7.5203</td>\n",
              "      <td>10.8691</td>\n",
              "      <td>2</td>\n",
              "    </tr>\n",
              "    <tr>\n",
              "      <th>61</th>\n",
              "      <td>7.9415</td>\n",
              "      <td>9.2780</td>\n",
              "      <td>2</td>\n",
              "    </tr>\n",
              "    <tr>\n",
              "      <th>97</th>\n",
              "      <td>7.4368</td>\n",
              "      <td>9.9139</td>\n",
              "      <td>2</td>\n",
              "    </tr>\n",
              "    <tr>\n",
              "      <th>79</th>\n",
              "      <td>8.3259</td>\n",
              "      <td>10.0325</td>\n",
              "      <td>2</td>\n",
              "    </tr>\n",
              "    <tr>\n",
              "      <th>41</th>\n",
              "      <td>2.5410</td>\n",
              "      <td>3.3128</td>\n",
              "      <td>1</td>\n",
              "    </tr>\n",
              "    <tr>\n",
              "      <th>58</th>\n",
              "      <td>8.1287</td>\n",
              "      <td>9.8605</td>\n",
              "      <td>2</td>\n",
              "    </tr>\n",
              "    <tr>\n",
              "      <th>48</th>\n",
              "      <td>2.5534</td>\n",
              "      <td>4.0164</td>\n",
              "      <td>1</td>\n",
              "    </tr>\n",
              "    <tr>\n",
              "      <th>98</th>\n",
              "      <td>7.5925</td>\n",
              "      <td>9.8320</td>\n",
              "      <td>2</td>\n",
              "    </tr>\n",
              "    <tr>\n",
              "      <th>57</th>\n",
              "      <td>7.5809</td>\n",
              "      <td>9.8897</td>\n",
              "      <td>2</td>\n",
              "    </tr>\n",
              "    <tr>\n",
              "      <th>75</th>\n",
              "      <td>7.8207</td>\n",
              "      <td>9.8127</td>\n",
              "      <td>2</td>\n",
              "    </tr>\n",
              "    <tr>\n",
              "      <th>32</th>\n",
              "      <td>2.9687</td>\n",
              "      <td>4.6599</td>\n",
              "      <td>1</td>\n",
              "    </tr>\n",
              "    <tr>\n",
              "      <th>94</th>\n",
              "      <td>7.7877</td>\n",
              "      <td>10.6080</td>\n",
              "      <td>2</td>\n",
              "    </tr>\n",
              "    <tr>\n",
              "      <th>59</th>\n",
              "      <td>7.9081</td>\n",
              "      <td>9.6332</td>\n",
              "      <td>2</td>\n",
              "    </tr>\n",
              "    <tr>\n",
              "      <th>63</th>\n",
              "      <td>7.7494</td>\n",
              "      <td>9.3382</td>\n",
              "      <td>2</td>\n",
              "    </tr>\n",
              "    <tr>\n",
              "      <th>84</th>\n",
              "      <td>7.7358</td>\n",
              "      <td>10.1634</td>\n",
              "      <td>2</td>\n",
              "    </tr>\n",
              "    <tr>\n",
              "      <th>37</th>\n",
              "      <td>2.1537</td>\n",
              "      <td>4.0102</td>\n",
              "      <td>1</td>\n",
              "    </tr>\n",
              "    <tr>\n",
              "      <th>29</th>\n",
              "      <td>1.4595</td>\n",
              "      <td>4.6372</td>\n",
              "      <td>1</td>\n",
              "    </tr>\n",
              "    <tr>\n",
              "      <th>1</th>\n",
              "      <td>1.6726</td>\n",
              "      <td>4.6705</td>\n",
              "      <td>1</td>\n",
              "    </tr>\n",
              "    <tr>\n",
              "      <th>52</th>\n",
              "      <td>7.6164</td>\n",
              "      <td>10.0700</td>\n",
              "      <td>2</td>\n",
              "    </tr>\n",
              "    <tr>\n",
              "      <th>21</th>\n",
              "      <td>1.5094</td>\n",
              "      <td>4.4282</td>\n",
              "      <td>1</td>\n",
              "    </tr>\n",
              "    <tr>\n",
              "      <th>2</th>\n",
              "      <td>1.4597</td>\n",
              "      <td>4.1940</td>\n",
              "      <td>1</td>\n",
              "    </tr>\n",
              "    <tr>\n",
              "      <th>23</th>\n",
              "      <td>2.6697</td>\n",
              "      <td>4.3125</td>\n",
              "      <td>1</td>\n",
              "    </tr>\n",
              "    <tr>\n",
              "      <th>87</th>\n",
              "      <td>6.7400</td>\n",
              "      <td>10.2774</td>\n",
              "      <td>2</td>\n",
              "    </tr>\n",
              "    <tr>\n",
              "      <th>91</th>\n",
              "      <td>6.7880</td>\n",
              "      <td>9.8429</td>\n",
              "      <td>2</td>\n",
              "    </tr>\n",
              "    <tr>\n",
              "      <th>74</th>\n",
              "      <td>7.9623</td>\n",
              "      <td>9.2970</td>\n",
              "      <td>2</td>\n",
              "    </tr>\n",
              "    <tr>\n",
              "      <th>86</th>\n",
              "      <td>8.6269</td>\n",
              "      <td>10.3397</td>\n",
              "      <td>2</td>\n",
              "    </tr>\n",
              "    <tr>\n",
              "      <th>82</th>\n",
              "      <td>8.1245</td>\n",
              "      <td>10.3831</td>\n",
              "      <td>2</td>\n",
              "    </tr>\n",
              "    <tr>\n",
              "      <th>20</th>\n",
              "      <td>2.5420</td>\n",
              "      <td>3.7460</td>\n",
              "      <td>1</td>\n",
              "    </tr>\n",
              "    <tr>\n",
              "      <th>60</th>\n",
              "      <td>7.9162</td>\n",
              "      <td>9.9677</td>\n",
              "      <td>2</td>\n",
              "    </tr>\n",
              "    <tr>\n",
              "      <th>71</th>\n",
              "      <td>7.5548</td>\n",
              "      <td>10.0459</td>\n",
              "      <td>2</td>\n",
              "    </tr>\n",
              "    <tr>\n",
              "      <th>14</th>\n",
              "      <td>1.4406</td>\n",
              "      <td>4.0899</td>\n",
              "      <td>1</td>\n",
              "    </tr>\n",
              "    <tr>\n",
              "      <th>92</th>\n",
              "      <td>7.8881</td>\n",
              "      <td>10.1134</td>\n",
              "      <td>2</td>\n",
              "    </tr>\n",
              "    <tr>\n",
              "      <th>51</th>\n",
              "      <td>7.6087</td>\n",
              "      <td>10.7687</td>\n",
              "      <td>2</td>\n",
              "    </tr>\n",
              "  </tbody>\n",
              "</table>\n",
              "</div>"
            ],
            "text/plain": [
              "    Feature1  Feature2  Class\n",
              "49    1.3862    4.9352      1\n",
              "34    1.3720    2.8472      1\n",
              "7     1.9820    3.6816      1\n",
              "95    7.8985    9.7286      2\n",
              "27    2.8099    3.0414      1\n",
              "19    0.9956    4.3358      1\n",
              "81    7.6693   10.0414      2\n",
              "25    1.7936    4.7678      1\n",
              "62    8.0842   10.3062      2\n",
              "13    1.7511    4.6866      1\n",
              "24    1.5454    3.4763      1\n",
              "3     1.9761    4.1965      1\n",
              "17    1.6219    4.4126      1\n",
              "38    1.7138    3.7970      1\n",
              "8     1.9126    3.4987      1\n",
              "78    8.6967   10.3766      2\n",
              "6     1.7501    4.3428      1\n",
              "64    7.6475    9.6692      2\n",
              "36    1.9005    4.1954      1\n",
              "89    7.4960   10.6297      2\n",
              "56    6.8104   10.0517      2\n",
              "99    8.1833   10.2707      2\n",
              "54    7.5115    9.7729      2\n",
              "43    2.1146    3.8957      1\n",
              "50    7.3955    9.7069      2\n",
              "67    8.1146    9.9617      2\n",
              "46    1.7562    3.3273      1\n",
              "68    7.5203   10.8691      2\n",
              "61    7.9415    9.2780      2\n",
              "97    7.4368    9.9139      2\n",
              "79    8.3259   10.0325      2\n",
              "41    2.5410    3.3128      1\n",
              "58    8.1287    9.8605      2\n",
              "48    2.5534    4.0164      1\n",
              "98    7.5925    9.8320      2\n",
              "57    7.5809    9.8897      2\n",
              "75    7.8207    9.8127      2\n",
              "32    2.9687    4.6599      1\n",
              "94    7.7877   10.6080      2\n",
              "59    7.9081    9.6332      2\n",
              "63    7.7494    9.3382      2\n",
              "84    7.7358   10.1634      2\n",
              "37    2.1537    4.0102      1\n",
              "29    1.4595    4.6372      1\n",
              "1     1.6726    4.6705      1\n",
              "52    7.6164   10.0700      2\n",
              "21    1.5094    4.4282      1\n",
              "2     1.4597    4.1940      1\n",
              "23    2.6697    4.3125      1\n",
              "87    6.7400   10.2774      2\n",
              "91    6.7880    9.8429      2\n",
              "74    7.9623    9.2970      2\n",
              "86    8.6269   10.3397      2\n",
              "82    8.1245   10.3831      2\n",
              "20    2.5420    3.7460      1\n",
              "60    7.9162    9.9677      2\n",
              "71    7.5548   10.0459      2\n",
              "14    1.4406    4.0899      1\n",
              "92    7.8881   10.1134      2\n",
              "51    7.6087   10.7687      2"
            ]
          },
          "metadata": {
            "tags": []
          },
          "execution_count": 74
        }
      ]
    },
    {
      "cell_type": "code",
      "metadata": {
        "id": "Bx0D_fzuyd94",
        "colab_type": "code",
        "colab": {
          "base_uri": "https://localhost:8080/",
          "height": 1000
        },
        "outputId": "b3758b58-bae7-491f-9334-429b358d9037"
      },
      "source": [
        "test"
      ],
      "execution_count": 75,
      "outputs": [
        {
          "output_type": "execute_result",
          "data": {
            "text/html": [
              "<div>\n",
              "<style scoped>\n",
              "    .dataframe tbody tr th:only-of-type {\n",
              "        vertical-align: middle;\n",
              "    }\n",
              "\n",
              "    .dataframe tbody tr th {\n",
              "        vertical-align: top;\n",
              "    }\n",
              "\n",
              "    .dataframe thead th {\n",
              "        text-align: right;\n",
              "    }\n",
              "</style>\n",
              "<table border=\"1\" class=\"dataframe\">\n",
              "  <thead>\n",
              "    <tr style=\"text-align: right;\">\n",
              "      <th></th>\n",
              "      <th>Feature1</th>\n",
              "      <th>Feature2</th>\n",
              "      <th>Class</th>\n",
              "    </tr>\n",
              "  </thead>\n",
              "  <tbody>\n",
              "    <tr>\n",
              "      <th>83</th>\n",
              "      <td>7.8082</td>\n",
              "      <td>11.1184</td>\n",
              "      <td>2</td>\n",
              "    </tr>\n",
              "    <tr>\n",
              "      <th>53</th>\n",
              "      <td>7.9464</td>\n",
              "      <td>9.0686</td>\n",
              "      <td>2</td>\n",
              "    </tr>\n",
              "    <tr>\n",
              "      <th>70</th>\n",
              "      <td>8.3723</td>\n",
              "      <td>10.3132</td>\n",
              "      <td>2</td>\n",
              "    </tr>\n",
              "    <tr>\n",
              "      <th>45</th>\n",
              "      <td>2.3508</td>\n",
              "      <td>4.1879</td>\n",
              "      <td>1</td>\n",
              "    </tr>\n",
              "    <tr>\n",
              "      <th>44</th>\n",
              "      <td>1.8667</td>\n",
              "      <td>4.3780</td>\n",
              "      <td>1</td>\n",
              "    </tr>\n",
              "    <tr>\n",
              "      <th>39</th>\n",
              "      <td>1.5112</td>\n",
              "      <td>3.2326</td>\n",
              "      <td>1</td>\n",
              "    </tr>\n",
              "    <tr>\n",
              "      <th>22</th>\n",
              "      <td>1.6558</td>\n",
              "      <td>4.1343</td>\n",
              "      <td>1</td>\n",
              "    </tr>\n",
              "    <tr>\n",
              "      <th>80</th>\n",
              "      <td>7.8114</td>\n",
              "      <td>9.8536</td>\n",
              "      <td>2</td>\n",
              "    </tr>\n",
              "    <tr>\n",
              "      <th>10</th>\n",
              "      <td>2.6463</td>\n",
              "      <td>3.4730</td>\n",
              "      <td>1</td>\n",
              "    </tr>\n",
              "    <tr>\n",
              "      <th>0</th>\n",
              "      <td>1.7044</td>\n",
              "      <td>3.6651</td>\n",
              "      <td>1</td>\n",
              "    </tr>\n",
              "    <tr>\n",
              "      <th>18</th>\n",
              "      <td>1.9554</td>\n",
              "      <td>4.1154</td>\n",
              "      <td>1</td>\n",
              "    </tr>\n",
              "    <tr>\n",
              "      <th>30</th>\n",
              "      <td>1.4377</td>\n",
              "      <td>4.3193</td>\n",
              "      <td>1</td>\n",
              "    </tr>\n",
              "    <tr>\n",
              "      <th>73</th>\n",
              "      <td>7.8819</td>\n",
              "      <td>9.7693</td>\n",
              "      <td>2</td>\n",
              "    </tr>\n",
              "    <tr>\n",
              "      <th>33</th>\n",
              "      <td>2.8175</td>\n",
              "      <td>3.5453</td>\n",
              "      <td>1</td>\n",
              "    </tr>\n",
              "    <tr>\n",
              "      <th>90</th>\n",
              "      <td>8.4721</td>\n",
              "      <td>10.0221</td>\n",
              "      <td>2</td>\n",
              "    </tr>\n",
              "    <tr>\n",
              "      <th>4</th>\n",
              "      <td>2.1897</td>\n",
              "      <td>3.1463</td>\n",
              "      <td>1</td>\n",
              "    </tr>\n",
              "    <tr>\n",
              "      <th>76</th>\n",
              "      <td>6.9612</td>\n",
              "      <td>9.7645</td>\n",
              "      <td>2</td>\n",
              "    </tr>\n",
              "    <tr>\n",
              "      <th>77</th>\n",
              "      <td>7.9282</td>\n",
              "      <td>10.8756</td>\n",
              "      <td>2</td>\n",
              "    </tr>\n",
              "    <tr>\n",
              "      <th>12</th>\n",
              "      <td>2.6405</td>\n",
              "      <td>4.1396</td>\n",
              "      <td>1</td>\n",
              "    </tr>\n",
              "    <tr>\n",
              "      <th>31</th>\n",
              "      <td>2.8678</td>\n",
              "      <td>4.6904</td>\n",
              "      <td>1</td>\n",
              "    </tr>\n",
              "    <tr>\n",
              "      <th>55</th>\n",
              "      <td>7.5180</td>\n",
              "      <td>9.6740</td>\n",
              "      <td>2</td>\n",
              "    </tr>\n",
              "    <tr>\n",
              "      <th>88</th>\n",
              "      <td>8.2924</td>\n",
              "      <td>10.5008</td>\n",
              "      <td>2</td>\n",
              "    </tr>\n",
              "    <tr>\n",
              "      <th>26</th>\n",
              "      <td>1.7469</td>\n",
              "      <td>4.2172</td>\n",
              "      <td>1</td>\n",
              "    </tr>\n",
              "    <tr>\n",
              "      <th>42</th>\n",
              "      <td>3.1863</td>\n",
              "      <td>3.5804</td>\n",
              "      <td>1</td>\n",
              "    </tr>\n",
              "    <tr>\n",
              "      <th>69</th>\n",
              "      <td>7.9270</td>\n",
              "      <td>10.8110</td>\n",
              "      <td>2</td>\n",
              "    </tr>\n",
              "    <tr>\n",
              "      <th>15</th>\n",
              "      <td>2.4038</td>\n",
              "      <td>3.7290</td>\n",
              "      <td>1</td>\n",
              "    </tr>\n",
              "    <tr>\n",
              "      <th>40</th>\n",
              "      <td>1.7766</td>\n",
              "      <td>4.1107</td>\n",
              "      <td>1</td>\n",
              "    </tr>\n",
              "    <tr>\n",
              "      <th>96</th>\n",
              "      <td>7.2435</td>\n",
              "      <td>10.4561</td>\n",
              "      <td>2</td>\n",
              "    </tr>\n",
              "    <tr>\n",
              "      <th>9</th>\n",
              "      <td>1.5214</td>\n",
              "      <td>3.9072</td>\n",
              "      <td>1</td>\n",
              "    </tr>\n",
              "    <tr>\n",
              "      <th>72</th>\n",
              "      <td>8.0695</td>\n",
              "      <td>9.5962</td>\n",
              "      <td>2</td>\n",
              "    </tr>\n",
              "    <tr>\n",
              "      <th>11</th>\n",
              "      <td>2.2205</td>\n",
              "      <td>3.9642</td>\n",
              "      <td>1</td>\n",
              "    </tr>\n",
              "    <tr>\n",
              "      <th>47</th>\n",
              "      <td>2.9312</td>\n",
              "      <td>4.7409</td>\n",
              "      <td>1</td>\n",
              "    </tr>\n",
              "    <tr>\n",
              "      <th>85</th>\n",
              "      <td>8.0277</td>\n",
              "      <td>10.4317</td>\n",
              "      <td>2</td>\n",
              "    </tr>\n",
              "    <tr>\n",
              "      <th>28</th>\n",
              "      <td>2.0405</td>\n",
              "      <td>4.2350</td>\n",
              "      <td>1</td>\n",
              "    </tr>\n",
              "    <tr>\n",
              "      <th>93</th>\n",
              "      <td>8.0290</td>\n",
              "      <td>10.4983</td>\n",
              "      <td>2</td>\n",
              "    </tr>\n",
              "    <tr>\n",
              "      <th>5</th>\n",
              "      <td>1.8348</td>\n",
              "      <td>4.1139</td>\n",
              "      <td>1</td>\n",
              "    </tr>\n",
              "    <tr>\n",
              "      <th>66</th>\n",
              "      <td>7.7895</td>\n",
              "      <td>10.1240</td>\n",
              "      <td>2</td>\n",
              "    </tr>\n",
              "    <tr>\n",
              "      <th>65</th>\n",
              "      <td>8.2541</td>\n",
              "      <td>9.9269</td>\n",
              "      <td>2</td>\n",
              "    </tr>\n",
              "    <tr>\n",
              "      <th>35</th>\n",
              "      <td>1.8932</td>\n",
              "      <td>4.8944</td>\n",
              "      <td>1</td>\n",
              "    </tr>\n",
              "    <tr>\n",
              "      <th>16</th>\n",
              "      <td>2.0206</td>\n",
              "      <td>4.8171</td>\n",
              "      <td>1</td>\n",
              "    </tr>\n",
              "  </tbody>\n",
              "</table>\n",
              "</div>"
            ],
            "text/plain": [
              "    Feature1  Feature2  Class\n",
              "83    7.8082   11.1184      2\n",
              "53    7.9464    9.0686      2\n",
              "70    8.3723   10.3132      2\n",
              "45    2.3508    4.1879      1\n",
              "44    1.8667    4.3780      1\n",
              "39    1.5112    3.2326      1\n",
              "22    1.6558    4.1343      1\n",
              "80    7.8114    9.8536      2\n",
              "10    2.6463    3.4730      1\n",
              "0     1.7044    3.6651      1\n",
              "18    1.9554    4.1154      1\n",
              "30    1.4377    4.3193      1\n",
              "73    7.8819    9.7693      2\n",
              "33    2.8175    3.5453      1\n",
              "90    8.4721   10.0221      2\n",
              "4     2.1897    3.1463      1\n",
              "76    6.9612    9.7645      2\n",
              "77    7.9282   10.8756      2\n",
              "12    2.6405    4.1396      1\n",
              "31    2.8678    4.6904      1\n",
              "55    7.5180    9.6740      2\n",
              "88    8.2924   10.5008      2\n",
              "26    1.7469    4.2172      1\n",
              "42    3.1863    3.5804      1\n",
              "69    7.9270   10.8110      2\n",
              "15    2.4038    3.7290      1\n",
              "40    1.7766    4.1107      1\n",
              "96    7.2435   10.4561      2\n",
              "9     1.5214    3.9072      1\n",
              "72    8.0695    9.5962      2\n",
              "11    2.2205    3.9642      1\n",
              "47    2.9312    4.7409      1\n",
              "85    8.0277   10.4317      2\n",
              "28    2.0405    4.2350      1\n",
              "93    8.0290   10.4983      2\n",
              "5     1.8348    4.1139      1\n",
              "66    7.7895   10.1240      2\n",
              "65    8.2541    9.9269      2\n",
              "35    1.8932    4.8944      1\n",
              "16    2.0206    4.8171      1"
            ]
          },
          "metadata": {
            "tags": []
          },
          "execution_count": 75
        }
      ]
    },
    {
      "cell_type": "markdown",
      "metadata": {
        "id": "f8svAAw4oAxP",
        "colab_type": "text"
      },
      "source": [
        "# **Task 2:**Calculate Mean, Co-variance and Probability of each class from the training set. "
      ]
    },
    {
      "cell_type": "markdown",
      "metadata": {
        "id": "CpbAzmdHzmNz",
        "colab_type": "text"
      },
      "source": [
        "**Mean Calculation for each class**"
      ]
    },
    {
      "cell_type": "code",
      "metadata": {
        "id": "bCt7BfMnyc3n",
        "colab_type": "code",
        "colab": {}
      },
      "source": [
        "class_1 = train[train['Class'] == 1]\n",
        "class_2 = train[train['Class'] == 2]"
      ],
      "execution_count": 76,
      "outputs": []
    },
    {
      "cell_type": "code",
      "metadata": {
        "id": "3V-oDTh8ypzk",
        "colab_type": "code",
        "colab": {}
      },
      "source": [
        "class_1_f1_mean = class_1['Feature1'].mean()\n",
        "class_1_f2_mean = class_1['Feature2'].mean()"
      ],
      "execution_count": 77,
      "outputs": []
    },
    {
      "cell_type": "code",
      "metadata": {
        "id": "mnAGbTBQyyj5",
        "colab_type": "code",
        "colab": {
          "base_uri": "https://localhost:8080/",
          "height": 51
        },
        "outputId": "77f68c93-d1b1-4f78-95c3-ff57ba8f53b2"
      },
      "source": [
        "print(class_1_f1_mean)\n",
        "print(class_1_f2_mean)"
      ],
      "execution_count": 78,
      "outputs": [
        {
          "output_type": "stream",
          "text": [
            "1.9019222222222223\n",
            "4.05612962962963\n"
          ],
          "name": "stdout"
        }
      ]
    },
    {
      "cell_type": "code",
      "metadata": {
        "id": "Ws6hWX10y7FD",
        "colab_type": "code",
        "colab": {
          "base_uri": "https://localhost:8080/",
          "height": 51
        },
        "outputId": "fae0485f-9f4e-4d3b-fc1a-f9bea54770b9"
      },
      "source": [
        "class_1_mean = np.array([class_1_f1_mean,class_1_f2_mean])\n",
        "class_1_mean = class_1_mean.reshape(2,1)\n",
        "print(class_1_mean)"
      ],
      "execution_count": 79,
      "outputs": [
        {
          "output_type": "stream",
          "text": [
            "[[1.90192222]\n",
            " [4.05612963]]\n"
          ],
          "name": "stdout"
        }
      ]
    },
    {
      "cell_type": "code",
      "metadata": {
        "id": "eS_WfOijzFvp",
        "colab_type": "code",
        "colab": {}
      },
      "source": [
        "class_2_f1_mean = class_2['Feature1'].mean()\n",
        "class_2_f2_mean = class_2['Feature2'].mean()"
      ],
      "execution_count": 80,
      "outputs": []
    },
    {
      "cell_type": "code",
      "metadata": {
        "id": "ey9YkgAgzUiU",
        "colab_type": "code",
        "colab": {
          "base_uri": "https://localhost:8080/",
          "height": 51
        },
        "outputId": "f5c79f44-51ed-4063-9dba-0d8a2d947bf0"
      },
      "source": [
        "print(class_2_f1_mean)\n",
        "print(class_2_f2_mean)"
      ],
      "execution_count": 81,
      "outputs": [
        {
          "output_type": "stream",
          "text": [
            "7.753384848484851\n",
            "10.025836363636365\n"
          ],
          "name": "stdout"
        }
      ]
    },
    {
      "cell_type": "code",
      "metadata": {
        "id": "C7Q2vOP0zbfF",
        "colab_type": "code",
        "colab": {
          "base_uri": "https://localhost:8080/",
          "height": 51
        },
        "outputId": "2010cda3-82f1-4091-f1e1-8a844bd0b94b"
      },
      "source": [
        "class_2_mean = np.array([class_2_f1_mean,class_2_f2_mean])\n",
        "class_2_mean = class_2_mean.reshape(2,1)\n",
        "print(class_2_mean)"
      ],
      "execution_count": 82,
      "outputs": [
        {
          "output_type": "stream",
          "text": [
            "[[ 7.75338485]\n",
            " [10.02583636]]\n"
          ],
          "name": "stdout"
        }
      ]
    },
    {
      "cell_type": "markdown",
      "metadata": {
        "id": "SMwGFUvXzxEt",
        "colab_type": "text"
      },
      "source": [
        "**Co-variance calculation for each class**"
      ]
    },
    {
      "cell_type": "code",
      "metadata": {
        "id": "Un_wddJ1z2FK",
        "colab_type": "code",
        "colab": {}
      },
      "source": [
        "class_1 = class_1.drop(['Class'], axis = 1)"
      ],
      "execution_count": 83,
      "outputs": []
    },
    {
      "cell_type": "code",
      "metadata": {
        "id": "FCfE5weRz_aK",
        "colab_type": "code",
        "colab": {
          "base_uri": "https://localhost:8080/",
          "height": 886
        },
        "outputId": "d0859c45-fe19-4d03-fffc-4779c05c8643"
      },
      "source": [
        "class_1"
      ],
      "execution_count": 84,
      "outputs": [
        {
          "output_type": "execute_result",
          "data": {
            "text/html": [
              "<div>\n",
              "<style scoped>\n",
              "    .dataframe tbody tr th:only-of-type {\n",
              "        vertical-align: middle;\n",
              "    }\n",
              "\n",
              "    .dataframe tbody tr th {\n",
              "        vertical-align: top;\n",
              "    }\n",
              "\n",
              "    .dataframe thead th {\n",
              "        text-align: right;\n",
              "    }\n",
              "</style>\n",
              "<table border=\"1\" class=\"dataframe\">\n",
              "  <thead>\n",
              "    <tr style=\"text-align: right;\">\n",
              "      <th></th>\n",
              "      <th>Feature1</th>\n",
              "      <th>Feature2</th>\n",
              "    </tr>\n",
              "  </thead>\n",
              "  <tbody>\n",
              "    <tr>\n",
              "      <th>49</th>\n",
              "      <td>1.3862</td>\n",
              "      <td>4.9352</td>\n",
              "    </tr>\n",
              "    <tr>\n",
              "      <th>34</th>\n",
              "      <td>1.3720</td>\n",
              "      <td>2.8472</td>\n",
              "    </tr>\n",
              "    <tr>\n",
              "      <th>7</th>\n",
              "      <td>1.9820</td>\n",
              "      <td>3.6816</td>\n",
              "    </tr>\n",
              "    <tr>\n",
              "      <th>27</th>\n",
              "      <td>2.8099</td>\n",
              "      <td>3.0414</td>\n",
              "    </tr>\n",
              "    <tr>\n",
              "      <th>19</th>\n",
              "      <td>0.9956</td>\n",
              "      <td>4.3358</td>\n",
              "    </tr>\n",
              "    <tr>\n",
              "      <th>25</th>\n",
              "      <td>1.7936</td>\n",
              "      <td>4.7678</td>\n",
              "    </tr>\n",
              "    <tr>\n",
              "      <th>13</th>\n",
              "      <td>1.7511</td>\n",
              "      <td>4.6866</td>\n",
              "    </tr>\n",
              "    <tr>\n",
              "      <th>24</th>\n",
              "      <td>1.5454</td>\n",
              "      <td>3.4763</td>\n",
              "    </tr>\n",
              "    <tr>\n",
              "      <th>3</th>\n",
              "      <td>1.9761</td>\n",
              "      <td>4.1965</td>\n",
              "    </tr>\n",
              "    <tr>\n",
              "      <th>17</th>\n",
              "      <td>1.6219</td>\n",
              "      <td>4.4126</td>\n",
              "    </tr>\n",
              "    <tr>\n",
              "      <th>38</th>\n",
              "      <td>1.7138</td>\n",
              "      <td>3.7970</td>\n",
              "    </tr>\n",
              "    <tr>\n",
              "      <th>8</th>\n",
              "      <td>1.9126</td>\n",
              "      <td>3.4987</td>\n",
              "    </tr>\n",
              "    <tr>\n",
              "      <th>6</th>\n",
              "      <td>1.7501</td>\n",
              "      <td>4.3428</td>\n",
              "    </tr>\n",
              "    <tr>\n",
              "      <th>36</th>\n",
              "      <td>1.9005</td>\n",
              "      <td>4.1954</td>\n",
              "    </tr>\n",
              "    <tr>\n",
              "      <th>43</th>\n",
              "      <td>2.1146</td>\n",
              "      <td>3.8957</td>\n",
              "    </tr>\n",
              "    <tr>\n",
              "      <th>46</th>\n",
              "      <td>1.7562</td>\n",
              "      <td>3.3273</td>\n",
              "    </tr>\n",
              "    <tr>\n",
              "      <th>41</th>\n",
              "      <td>2.5410</td>\n",
              "      <td>3.3128</td>\n",
              "    </tr>\n",
              "    <tr>\n",
              "      <th>48</th>\n",
              "      <td>2.5534</td>\n",
              "      <td>4.0164</td>\n",
              "    </tr>\n",
              "    <tr>\n",
              "      <th>32</th>\n",
              "      <td>2.9687</td>\n",
              "      <td>4.6599</td>\n",
              "    </tr>\n",
              "    <tr>\n",
              "      <th>37</th>\n",
              "      <td>2.1537</td>\n",
              "      <td>4.0102</td>\n",
              "    </tr>\n",
              "    <tr>\n",
              "      <th>29</th>\n",
              "      <td>1.4595</td>\n",
              "      <td>4.6372</td>\n",
              "    </tr>\n",
              "    <tr>\n",
              "      <th>1</th>\n",
              "      <td>1.6726</td>\n",
              "      <td>4.6705</td>\n",
              "    </tr>\n",
              "    <tr>\n",
              "      <th>21</th>\n",
              "      <td>1.5094</td>\n",
              "      <td>4.4282</td>\n",
              "    </tr>\n",
              "    <tr>\n",
              "      <th>2</th>\n",
              "      <td>1.4597</td>\n",
              "      <td>4.1940</td>\n",
              "    </tr>\n",
              "    <tr>\n",
              "      <th>23</th>\n",
              "      <td>2.6697</td>\n",
              "      <td>4.3125</td>\n",
              "    </tr>\n",
              "    <tr>\n",
              "      <th>20</th>\n",
              "      <td>2.5420</td>\n",
              "      <td>3.7460</td>\n",
              "    </tr>\n",
              "    <tr>\n",
              "      <th>14</th>\n",
              "      <td>1.4406</td>\n",
              "      <td>4.0899</td>\n",
              "    </tr>\n",
              "  </tbody>\n",
              "</table>\n",
              "</div>"
            ],
            "text/plain": [
              "    Feature1  Feature2\n",
              "49    1.3862    4.9352\n",
              "34    1.3720    2.8472\n",
              "7     1.9820    3.6816\n",
              "27    2.8099    3.0414\n",
              "19    0.9956    4.3358\n",
              "25    1.7936    4.7678\n",
              "13    1.7511    4.6866\n",
              "24    1.5454    3.4763\n",
              "3     1.9761    4.1965\n",
              "17    1.6219    4.4126\n",
              "38    1.7138    3.7970\n",
              "8     1.9126    3.4987\n",
              "6     1.7501    4.3428\n",
              "36    1.9005    4.1954\n",
              "43    2.1146    3.8957\n",
              "46    1.7562    3.3273\n",
              "41    2.5410    3.3128\n",
              "48    2.5534    4.0164\n",
              "32    2.9687    4.6599\n",
              "37    2.1537    4.0102\n",
              "29    1.4595    4.6372\n",
              "1     1.6726    4.6705\n",
              "21    1.5094    4.4282\n",
              "2     1.4597    4.1940\n",
              "23    2.6697    4.3125\n",
              "20    2.5420    3.7460\n",
              "14    1.4406    4.0899"
            ]
          },
          "metadata": {
            "tags": []
          },
          "execution_count": 84
        }
      ]
    },
    {
      "cell_type": "code",
      "metadata": {
        "id": "rkbF6tyGz_mJ",
        "colab_type": "code",
        "colab": {}
      },
      "source": [
        "class_2 = class_2.drop(['Class'], axis = 1)"
      ],
      "execution_count": 85,
      "outputs": []
    },
    {
      "cell_type": "code",
      "metadata": {
        "id": "auhhKeeyz_wD",
        "colab_type": "code",
        "colab": {
          "base_uri": "https://localhost:8080/",
          "height": 1000
        },
        "outputId": "f2f8b80f-c115-4a93-f852-002920a93b58"
      },
      "source": [
        "class_2"
      ],
      "execution_count": 86,
      "outputs": [
        {
          "output_type": "execute_result",
          "data": {
            "text/html": [
              "<div>\n",
              "<style scoped>\n",
              "    .dataframe tbody tr th:only-of-type {\n",
              "        vertical-align: middle;\n",
              "    }\n",
              "\n",
              "    .dataframe tbody tr th {\n",
              "        vertical-align: top;\n",
              "    }\n",
              "\n",
              "    .dataframe thead th {\n",
              "        text-align: right;\n",
              "    }\n",
              "</style>\n",
              "<table border=\"1\" class=\"dataframe\">\n",
              "  <thead>\n",
              "    <tr style=\"text-align: right;\">\n",
              "      <th></th>\n",
              "      <th>Feature1</th>\n",
              "      <th>Feature2</th>\n",
              "    </tr>\n",
              "  </thead>\n",
              "  <tbody>\n",
              "    <tr>\n",
              "      <th>95</th>\n",
              "      <td>7.8985</td>\n",
              "      <td>9.7286</td>\n",
              "    </tr>\n",
              "    <tr>\n",
              "      <th>81</th>\n",
              "      <td>7.6693</td>\n",
              "      <td>10.0414</td>\n",
              "    </tr>\n",
              "    <tr>\n",
              "      <th>62</th>\n",
              "      <td>8.0842</td>\n",
              "      <td>10.3062</td>\n",
              "    </tr>\n",
              "    <tr>\n",
              "      <th>78</th>\n",
              "      <td>8.6967</td>\n",
              "      <td>10.3766</td>\n",
              "    </tr>\n",
              "    <tr>\n",
              "      <th>64</th>\n",
              "      <td>7.6475</td>\n",
              "      <td>9.6692</td>\n",
              "    </tr>\n",
              "    <tr>\n",
              "      <th>89</th>\n",
              "      <td>7.4960</td>\n",
              "      <td>10.6297</td>\n",
              "    </tr>\n",
              "    <tr>\n",
              "      <th>56</th>\n",
              "      <td>6.8104</td>\n",
              "      <td>10.0517</td>\n",
              "    </tr>\n",
              "    <tr>\n",
              "      <th>99</th>\n",
              "      <td>8.1833</td>\n",
              "      <td>10.2707</td>\n",
              "    </tr>\n",
              "    <tr>\n",
              "      <th>54</th>\n",
              "      <td>7.5115</td>\n",
              "      <td>9.7729</td>\n",
              "    </tr>\n",
              "    <tr>\n",
              "      <th>50</th>\n",
              "      <td>7.3955</td>\n",
              "      <td>9.7069</td>\n",
              "    </tr>\n",
              "    <tr>\n",
              "      <th>67</th>\n",
              "      <td>8.1146</td>\n",
              "      <td>9.9617</td>\n",
              "    </tr>\n",
              "    <tr>\n",
              "      <th>68</th>\n",
              "      <td>7.5203</td>\n",
              "      <td>10.8691</td>\n",
              "    </tr>\n",
              "    <tr>\n",
              "      <th>61</th>\n",
              "      <td>7.9415</td>\n",
              "      <td>9.2780</td>\n",
              "    </tr>\n",
              "    <tr>\n",
              "      <th>97</th>\n",
              "      <td>7.4368</td>\n",
              "      <td>9.9139</td>\n",
              "    </tr>\n",
              "    <tr>\n",
              "      <th>79</th>\n",
              "      <td>8.3259</td>\n",
              "      <td>10.0325</td>\n",
              "    </tr>\n",
              "    <tr>\n",
              "      <th>58</th>\n",
              "      <td>8.1287</td>\n",
              "      <td>9.8605</td>\n",
              "    </tr>\n",
              "    <tr>\n",
              "      <th>98</th>\n",
              "      <td>7.5925</td>\n",
              "      <td>9.8320</td>\n",
              "    </tr>\n",
              "    <tr>\n",
              "      <th>57</th>\n",
              "      <td>7.5809</td>\n",
              "      <td>9.8897</td>\n",
              "    </tr>\n",
              "    <tr>\n",
              "      <th>75</th>\n",
              "      <td>7.8207</td>\n",
              "      <td>9.8127</td>\n",
              "    </tr>\n",
              "    <tr>\n",
              "      <th>94</th>\n",
              "      <td>7.7877</td>\n",
              "      <td>10.6080</td>\n",
              "    </tr>\n",
              "    <tr>\n",
              "      <th>59</th>\n",
              "      <td>7.9081</td>\n",
              "      <td>9.6332</td>\n",
              "    </tr>\n",
              "    <tr>\n",
              "      <th>63</th>\n",
              "      <td>7.7494</td>\n",
              "      <td>9.3382</td>\n",
              "    </tr>\n",
              "    <tr>\n",
              "      <th>84</th>\n",
              "      <td>7.7358</td>\n",
              "      <td>10.1634</td>\n",
              "    </tr>\n",
              "    <tr>\n",
              "      <th>52</th>\n",
              "      <td>7.6164</td>\n",
              "      <td>10.0700</td>\n",
              "    </tr>\n",
              "    <tr>\n",
              "      <th>87</th>\n",
              "      <td>6.7400</td>\n",
              "      <td>10.2774</td>\n",
              "    </tr>\n",
              "    <tr>\n",
              "      <th>91</th>\n",
              "      <td>6.7880</td>\n",
              "      <td>9.8429</td>\n",
              "    </tr>\n",
              "    <tr>\n",
              "      <th>74</th>\n",
              "      <td>7.9623</td>\n",
              "      <td>9.2970</td>\n",
              "    </tr>\n",
              "    <tr>\n",
              "      <th>86</th>\n",
              "      <td>8.6269</td>\n",
              "      <td>10.3397</td>\n",
              "    </tr>\n",
              "    <tr>\n",
              "      <th>82</th>\n",
              "      <td>8.1245</td>\n",
              "      <td>10.3831</td>\n",
              "    </tr>\n",
              "    <tr>\n",
              "      <th>60</th>\n",
              "      <td>7.9162</td>\n",
              "      <td>9.9677</td>\n",
              "    </tr>\n",
              "    <tr>\n",
              "      <th>71</th>\n",
              "      <td>7.5548</td>\n",
              "      <td>10.0459</td>\n",
              "    </tr>\n",
              "    <tr>\n",
              "      <th>92</th>\n",
              "      <td>7.8881</td>\n",
              "      <td>10.1134</td>\n",
              "    </tr>\n",
              "    <tr>\n",
              "      <th>51</th>\n",
              "      <td>7.6087</td>\n",
              "      <td>10.7687</td>\n",
              "    </tr>\n",
              "  </tbody>\n",
              "</table>\n",
              "</div>"
            ],
            "text/plain": [
              "    Feature1  Feature2\n",
              "95    7.8985    9.7286\n",
              "81    7.6693   10.0414\n",
              "62    8.0842   10.3062\n",
              "78    8.6967   10.3766\n",
              "64    7.6475    9.6692\n",
              "89    7.4960   10.6297\n",
              "56    6.8104   10.0517\n",
              "99    8.1833   10.2707\n",
              "54    7.5115    9.7729\n",
              "50    7.3955    9.7069\n",
              "67    8.1146    9.9617\n",
              "68    7.5203   10.8691\n",
              "61    7.9415    9.2780\n",
              "97    7.4368    9.9139\n",
              "79    8.3259   10.0325\n",
              "58    8.1287    9.8605\n",
              "98    7.5925    9.8320\n",
              "57    7.5809    9.8897\n",
              "75    7.8207    9.8127\n",
              "94    7.7877   10.6080\n",
              "59    7.9081    9.6332\n",
              "63    7.7494    9.3382\n",
              "84    7.7358   10.1634\n",
              "52    7.6164   10.0700\n",
              "87    6.7400   10.2774\n",
              "91    6.7880    9.8429\n",
              "74    7.9623    9.2970\n",
              "86    8.6269   10.3397\n",
              "82    8.1245   10.3831\n",
              "60    7.9162    9.9677\n",
              "71    7.5548   10.0459\n",
              "92    7.8881   10.1134\n",
              "51    7.6087   10.7687"
            ]
          },
          "metadata": {
            "tags": []
          },
          "execution_count": 86
        }
      ]
    },
    {
      "cell_type": "code",
      "metadata": {
        "id": "gQM3PPbj0IOu",
        "colab_type": "code",
        "colab": {
          "base_uri": "https://localhost:8080/",
          "height": 111
        },
        "outputId": "8f407f70-b926-4f9b-bac5-938902ec39ee"
      },
      "source": [
        "class_1_covar = class_1.cov()\n",
        "class_1_covar"
      ],
      "execution_count": 87,
      "outputs": [
        {
          "output_type": "execute_result",
          "data": {
            "text/html": [
              "<div>\n",
              "<style scoped>\n",
              "    .dataframe tbody tr th:only-of-type {\n",
              "        vertical-align: middle;\n",
              "    }\n",
              "\n",
              "    .dataframe tbody tr th {\n",
              "        vertical-align: top;\n",
              "    }\n",
              "\n",
              "    .dataframe thead th {\n",
              "        text-align: right;\n",
              "    }\n",
              "</style>\n",
              "<table border=\"1\" class=\"dataframe\">\n",
              "  <thead>\n",
              "    <tr style=\"text-align: right;\">\n",
              "      <th></th>\n",
              "      <th>Feature1</th>\n",
              "      <th>Feature2</th>\n",
              "    </tr>\n",
              "  </thead>\n",
              "  <tbody>\n",
              "    <tr>\n",
              "      <th>Feature1</th>\n",
              "      <td>0.246684</td>\n",
              "      <td>-0.057380</td>\n",
              "    </tr>\n",
              "    <tr>\n",
              "      <th>Feature2</th>\n",
              "      <td>-0.057380</td>\n",
              "      <td>0.302389</td>\n",
              "    </tr>\n",
              "  </tbody>\n",
              "</table>\n",
              "</div>"
            ],
            "text/plain": [
              "          Feature1  Feature2\n",
              "Feature1  0.246684 -0.057380\n",
              "Feature2 -0.057380  0.302389"
            ]
          },
          "metadata": {
            "tags": []
          },
          "execution_count": 87
        }
      ]
    },
    {
      "cell_type": "code",
      "metadata": {
        "id": "Dc54Z2n_0vP6",
        "colab_type": "code",
        "colab": {
          "base_uri": "https://localhost:8080/",
          "height": 68
        },
        "outputId": "fa684350-ed57-463f-dc5a-90f6b71f9d91"
      },
      "source": [
        "class_1_covar = class_1_covar.to_numpy()\n",
        "print(class_1_covar)\n",
        "print(class_1_covar.shape)"
      ],
      "execution_count": 88,
      "outputs": [
        {
          "output_type": "stream",
          "text": [
            "[[ 0.24668389 -0.05737966]\n",
            " [-0.05737966  0.30238914]]\n",
            "(2, 2)\n"
          ],
          "name": "stdout"
        }
      ]
    },
    {
      "cell_type": "code",
      "metadata": {
        "id": "SXHg-3q00Ia4",
        "colab_type": "code",
        "colab": {
          "base_uri": "https://localhost:8080/",
          "height": 111
        },
        "outputId": "382c1851-2330-481e-ee4e-1d4509784c25"
      },
      "source": [
        "class_2_covar = class_2.cov()\n",
        "class_2_covar"
      ],
      "execution_count": 89,
      "outputs": [
        {
          "output_type": "execute_result",
          "data": {
            "text/html": [
              "<div>\n",
              "<style scoped>\n",
              "    .dataframe tbody tr th:only-of-type {\n",
              "        vertical-align: middle;\n",
              "    }\n",
              "\n",
              "    .dataframe tbody tr th {\n",
              "        vertical-align: top;\n",
              "    }\n",
              "\n",
              "    .dataframe thead th {\n",
              "        text-align: right;\n",
              "    }\n",
              "</style>\n",
              "<table border=\"1\" class=\"dataframe\">\n",
              "  <thead>\n",
              "    <tr style=\"text-align: right;\">\n",
              "      <th></th>\n",
              "      <th>Feature1</th>\n",
              "      <th>Feature2</th>\n",
              "    </tr>\n",
              "  </thead>\n",
              "  <tbody>\n",
              "    <tr>\n",
              "      <th>Feature1</th>\n",
              "      <td>0.195852</td>\n",
              "      <td>0.006105</td>\n",
              "    </tr>\n",
              "    <tr>\n",
              "      <th>Feature2</th>\n",
              "      <td>0.006105</td>\n",
              "      <td>0.150891</td>\n",
              "    </tr>\n",
              "  </tbody>\n",
              "</table>\n",
              "</div>"
            ],
            "text/plain": [
              "          Feature1  Feature2\n",
              "Feature1  0.195852  0.006105\n",
              "Feature2  0.006105  0.150891"
            ]
          },
          "metadata": {
            "tags": []
          },
          "execution_count": 89
        }
      ]
    },
    {
      "cell_type": "code",
      "metadata": {
        "id": "cS_R1rwU029P",
        "colab_type": "code",
        "colab": {
          "base_uri": "https://localhost:8080/",
          "height": 68
        },
        "outputId": "fcee73a5-24ec-4d9a-dd3a-f710bb2d6a68"
      },
      "source": [
        "class_2_covar = class_2_covar.to_numpy()\n",
        "print(class_2_covar)\n",
        "print(class_2_covar.shape)"
      ],
      "execution_count": 90,
      "outputs": [
        {
          "output_type": "stream",
          "text": [
            "[[0.19585233 0.00610549]\n",
            " [0.00610549 0.15089053]]\n",
            "(2, 2)\n"
          ],
          "name": "stdout"
        }
      ]
    },
    {
      "cell_type": "markdown",
      "metadata": {
        "id": "7s4KRafb1OKq",
        "colab_type": "text"
      },
      "source": [
        "**Probability of each class**"
      ]
    },
    {
      "cell_type": "code",
      "metadata": {
        "id": "UB8saCSe0iUP",
        "colab_type": "code",
        "colab": {
          "base_uri": "https://localhost:8080/",
          "height": 68
        },
        "outputId": "719d3f58-be1c-4c34-f9e5-4259d4f2e71d"
      },
      "source": [
        "print(len(train))\n",
        "print(len(class_1))\n",
        "print(len(class_2))"
      ],
      "execution_count": 91,
      "outputs": [
        {
          "output_type": "stream",
          "text": [
            "60\n",
            "27\n",
            "33\n"
          ],
          "name": "stdout"
        }
      ]
    },
    {
      "cell_type": "code",
      "metadata": {
        "id": "c8ifc68l0ict",
        "colab_type": "code",
        "colab": {
          "base_uri": "https://localhost:8080/",
          "height": 34
        },
        "outputId": "13632454-6f9d-4556-e8b6-6e674c8339dc"
      },
      "source": [
        "class_1_probability = len(class_1)/len(train)\n",
        "class_1_probability"
      ],
      "execution_count": 92,
      "outputs": [
        {
          "output_type": "execute_result",
          "data": {
            "text/plain": [
              "0.45"
            ]
          },
          "metadata": {
            "tags": []
          },
          "execution_count": 92
        }
      ]
    },
    {
      "cell_type": "code",
      "metadata": {
        "id": "fp431PI31g6j",
        "colab_type": "code",
        "colab": {
          "base_uri": "https://localhost:8080/",
          "height": 34
        },
        "outputId": "57a93e40-db75-424f-bf9b-23d1ac2da7ed"
      },
      "source": [
        "class_2_probability = len(class_2)/len(train)\n",
        "class_2_probability"
      ],
      "execution_count": 93,
      "outputs": [
        {
          "output_type": "execute_result",
          "data": {
            "text/plain": [
              "0.55"
            ]
          },
          "metadata": {
            "tags": []
          },
          "execution_count": 93
        }
      ]
    },
    {
      "cell_type": "markdown",
      "metadata": {
        "id": "-eZ39DC16IfD",
        "colab_type": "text"
      },
      "source": [
        "# **Task 3:** Classify the sample points from the test set using Gaussian distribution. Also, calculate the accuracy of the model. "
      ]
    },
    {
      "cell_type": "code",
      "metadata": {
        "id": "-Zz1bD1R1hQm",
        "colab_type": "code",
        "colab": {}
      },
      "source": [
        "x = test.to_numpy()"
      ],
      "execution_count": 94,
      "outputs": []
    },
    {
      "cell_type": "code",
      "metadata": {
        "id": "VNyrJs4p1hdm",
        "colab_type": "code",
        "colab": {
          "base_uri": "https://localhost:8080/",
          "height": 697
        },
        "outputId": "8d9f8bbc-92e3-4eee-cc25-93bd26c64d40"
      },
      "source": [
        "x"
      ],
      "execution_count": 95,
      "outputs": [
        {
          "output_type": "execute_result",
          "data": {
            "text/plain": [
              "array([[ 7.8082, 11.1184,  2.    ],\n",
              "       [ 7.9464,  9.0686,  2.    ],\n",
              "       [ 8.3723, 10.3132,  2.    ],\n",
              "       [ 2.3508,  4.1879,  1.    ],\n",
              "       [ 1.8667,  4.378 ,  1.    ],\n",
              "       [ 1.5112,  3.2326,  1.    ],\n",
              "       [ 1.6558,  4.1343,  1.    ],\n",
              "       [ 7.8114,  9.8536,  2.    ],\n",
              "       [ 2.6463,  3.473 ,  1.    ],\n",
              "       [ 1.7044,  3.6651,  1.    ],\n",
              "       [ 1.9554,  4.1154,  1.    ],\n",
              "       [ 1.4377,  4.3193,  1.    ],\n",
              "       [ 7.8819,  9.7693,  2.    ],\n",
              "       [ 2.8175,  3.5453,  1.    ],\n",
              "       [ 8.4721, 10.0221,  2.    ],\n",
              "       [ 2.1897,  3.1463,  1.    ],\n",
              "       [ 6.9612,  9.7645,  2.    ],\n",
              "       [ 7.9282, 10.8756,  2.    ],\n",
              "       [ 2.6405,  4.1396,  1.    ],\n",
              "       [ 2.8678,  4.6904,  1.    ],\n",
              "       [ 7.518 ,  9.674 ,  2.    ],\n",
              "       [ 8.2924, 10.5008,  2.    ],\n",
              "       [ 1.7469,  4.2172,  1.    ],\n",
              "       [ 3.1863,  3.5804,  1.    ],\n",
              "       [ 7.927 , 10.811 ,  2.    ],\n",
              "       [ 2.4038,  3.729 ,  1.    ],\n",
              "       [ 1.7766,  4.1107,  1.    ],\n",
              "       [ 7.2435, 10.4561,  2.    ],\n",
              "       [ 1.5214,  3.9072,  1.    ],\n",
              "       [ 8.0695,  9.5962,  2.    ],\n",
              "       [ 2.2205,  3.9642,  1.    ],\n",
              "       [ 2.9312,  4.7409,  1.    ],\n",
              "       [ 8.0277, 10.4317,  2.    ],\n",
              "       [ 2.0405,  4.235 ,  1.    ],\n",
              "       [ 8.029 , 10.4983,  2.    ],\n",
              "       [ 1.8348,  4.1139,  1.    ],\n",
              "       [ 7.7895, 10.124 ,  2.    ],\n",
              "       [ 8.2541,  9.9269,  2.    ],\n",
              "       [ 1.8932,  4.8944,  1.    ],\n",
              "       [ 2.0206,  4.8171,  1.    ]])"
            ]
          },
          "metadata": {
            "tags": []
          },
          "execution_count": 95
        }
      ]
    },
    {
      "cell_type": "code",
      "metadata": {
        "id": "Y8yq3tWW2F9D",
        "colab_type": "code",
        "colab": {
          "base_uri": "https://localhost:8080/",
          "height": 34
        },
        "outputId": "361e86f0-4918-4b43-cce1-2c295657954e"
      },
      "source": [
        "x.shape"
      ],
      "execution_count": 96,
      "outputs": [
        {
          "output_type": "execute_result",
          "data": {
            "text/plain": [
              "(40, 3)"
            ]
          },
          "metadata": {
            "tags": []
          },
          "execution_count": 96
        }
      ]
    },
    {
      "cell_type": "code",
      "metadata": {
        "id": "ttFWFaTm3ncJ",
        "colab_type": "code",
        "colab": {}
      },
      "source": [
        "class_1_new = []\n",
        "class_2_new = []\n",
        "g1 = 0\n",
        "g2 = 0\n",
        "d=2"
      ],
      "execution_count": 97,
      "outputs": []
    },
    {
      "cell_type": "code",
      "metadata": {
        "id": "kjWRpqmoFvQt",
        "colab_type": "code",
        "colab": {}
      },
      "source": [
        "w = x"
      ],
      "execution_count": 98,
      "outputs": []
    },
    {
      "cell_type": "code",
      "metadata": {
        "id": "xGk7MMCQ41kc",
        "colab_type": "code",
        "colab": {}
      },
      "source": [
        "x = np.delete(x, 2, axis = 1)\n"
      ],
      "execution_count": 99,
      "outputs": []
    },
    {
      "cell_type": "code",
      "metadata": {
        "id": "KrJFSoPJ6SNu",
        "colab_type": "code",
        "colab": {
          "base_uri": "https://localhost:8080/",
          "height": 697
        },
        "outputId": "eed90537-580c-48c1-f532-91a728b24923"
      },
      "source": [
        "x"
      ],
      "execution_count": 100,
      "outputs": [
        {
          "output_type": "execute_result",
          "data": {
            "text/plain": [
              "array([[ 7.8082, 11.1184],\n",
              "       [ 7.9464,  9.0686],\n",
              "       [ 8.3723, 10.3132],\n",
              "       [ 2.3508,  4.1879],\n",
              "       [ 1.8667,  4.378 ],\n",
              "       [ 1.5112,  3.2326],\n",
              "       [ 1.6558,  4.1343],\n",
              "       [ 7.8114,  9.8536],\n",
              "       [ 2.6463,  3.473 ],\n",
              "       [ 1.7044,  3.6651],\n",
              "       [ 1.9554,  4.1154],\n",
              "       [ 1.4377,  4.3193],\n",
              "       [ 7.8819,  9.7693],\n",
              "       [ 2.8175,  3.5453],\n",
              "       [ 8.4721, 10.0221],\n",
              "       [ 2.1897,  3.1463],\n",
              "       [ 6.9612,  9.7645],\n",
              "       [ 7.9282, 10.8756],\n",
              "       [ 2.6405,  4.1396],\n",
              "       [ 2.8678,  4.6904],\n",
              "       [ 7.518 ,  9.674 ],\n",
              "       [ 8.2924, 10.5008],\n",
              "       [ 1.7469,  4.2172],\n",
              "       [ 3.1863,  3.5804],\n",
              "       [ 7.927 , 10.811 ],\n",
              "       [ 2.4038,  3.729 ],\n",
              "       [ 1.7766,  4.1107],\n",
              "       [ 7.2435, 10.4561],\n",
              "       [ 1.5214,  3.9072],\n",
              "       [ 8.0695,  9.5962],\n",
              "       [ 2.2205,  3.9642],\n",
              "       [ 2.9312,  4.7409],\n",
              "       [ 8.0277, 10.4317],\n",
              "       [ 2.0405,  4.235 ],\n",
              "       [ 8.029 , 10.4983],\n",
              "       [ 1.8348,  4.1139],\n",
              "       [ 7.7895, 10.124 ],\n",
              "       [ 8.2541,  9.9269],\n",
              "       [ 1.8932,  4.8944],\n",
              "       [ 2.0206,  4.8171]])"
            ]
          },
          "metadata": {
            "tags": []
          },
          "execution_count": 100
        }
      ]
    },
    {
      "cell_type": "code",
      "metadata": {
        "id": "JrpY__Om6sAT",
        "colab_type": "code",
        "colab": {
          "base_uri": "https://localhost:8080/",
          "height": 34
        },
        "outputId": "541e4569-f896-4554-f512-81808c371d77"
      },
      "source": [
        "x.shape"
      ],
      "execution_count": 101,
      "outputs": [
        {
          "output_type": "execute_result",
          "data": {
            "text/plain": [
              "(40, 2)"
            ]
          },
          "metadata": {
            "tags": []
          },
          "execution_count": 101
        }
      ]
    },
    {
      "cell_type": "code",
      "metadata": {
        "id": "uPhgDcnwV6x9",
        "colab_type": "code",
        "colab": {
          "base_uri": "https://localhost:8080/",
          "height": 1000
        },
        "outputId": "217b74be-8511-439b-d6d4-ad0c21e59871"
      },
      "source": [
        "for i in range(len(x)):\n",
        "  \n",
        "      g1 =-0.5*(((x[i].reshape(2,1) - class_1_mean ).T.dot( np.linalg.inv(class_1_covar))).dot(x[i].reshape(2,1) - class_1_mean))- ((d/2)* np.log(2* math.pi))-(0.5* np.log(np.linalg.det(class_1_covar))) + (np.log(class_1_probability))  \n",
        "      print(g1)\n",
        "      g2 =-0.5*(((x[i].reshape(2,1) - class_2_mean ).T.dot( np.linalg.inv(class_2_covar))).dot(x[i].reshape(2,1) - class_2_mean))- ((d/2)* np.log(2* math.pi))-(0.5* np.log(np.linalg.det(class_2_covar))) + (np.log(class_2_probability)) \n",
        "      print(g2)\n",
        "      if (g1>g2):\n",
        "        class_1_new.append(x[i])\n",
        "      else:\n",
        "        class_2_new.append(x[i])"
      ],
      "execution_count": 102,
      "outputs": [
        {
          "output_type": "stream",
          "text": [
            "[[-195.13150271]]\n",
            "[[-4.63007406]]\n",
            "[[-146.6332205]]\n",
            "[[-3.84788171]]\n",
            "[[-190.39709717]]\n",
            "[[-1.89063063]]\n",
            "[[-1.82086343]]\n",
            "[[-181.83631471]]\n",
            "[[-1.48869077]]\n",
            "[[-188.2086565]]\n",
            "[[-3.07181881]]\n",
            "[[-244.61534516]]\n",
            "[[-1.43950811]]\n",
            "[[-203.44580182]]\n",
            "[[-161.07898021]]\n",
            "[[-0.78338104]]\n",
            "[[-2.72982944]]\n",
            "[[-202.88947684]]\n",
            "[[-1.72535758]]\n",
            "[[-220.48247754]]\n",
            "[[-1.330662]]\n",
            "[[-195.41837353]]\n",
            "[[-1.79443029]]\n",
            "[[-203.22318134]]\n",
            "[[-161.10105991]]\n",
            "[[-0.9416739]]\n",
            "[[-3.16854898]]\n",
            "[[-195.67395087]]\n",
            "[[-185.96515777]]\n",
            "[[-1.99527972]]\n",
            "[[-2.71282806]]\n",
            "[[-228.90878238]]\n",
            "[[-135.20144638]]\n",
            "[[-2.46219852]]\n",
            "[[-191.84190875]]\n",
            "[[-3.11748388]]\n",
            "[[-2.53434902]]\n",
            "[[-176.22696859]]\n",
            "[[-4.48312926]]\n",
            "[[-150.74384907]]\n",
            "[[-148.18130049]]\n",
            "[[-1.20949327]]\n",
            "[[-192.902542]]\n",
            "[[-2.11246318]]\n",
            "[[-1.39171384]]\n",
            "[[-197.62306846]]\n",
            "[[-4.71375477]]\n",
            "[[-185.73761035]]\n",
            "[[-189.97452711]]\n",
            "[[-2.76852751]]\n",
            "[[-1.90307522]]\n",
            "[[-198.41173365]]\n",
            "[[-1.34892139]]\n",
            "[[-200.75993634]]\n",
            "[[-160.18321549]]\n",
            "[[-1.99844883]]\n",
            "[[-1.70698287]]\n",
            "[[-216.27450793]]\n",
            "[[-162.56710791]]\n",
            "[[-1.57024746]]\n",
            "[[-1.52223206]]\n",
            "[[-193.89707713]]\n",
            "[[-4.94077265]]\n",
            "[[-147.51149012]]\n",
            "[[-182.63139898]]\n",
            "[[-1.39013644]]\n",
            "[[-1.43198462]]\n",
            "[[-188.51656833]]\n",
            "[[-184.47693671]]\n",
            "[[-1.58214028]]\n",
            "[[-1.32817633]]\n",
            "[[-198.93983678]]\n",
            "[[-167.26014667]]\n",
            "[[-0.70885723]]\n",
            "[[-176.50904108]]\n",
            "[[-1.35788094]]\n",
            "[[-2.52580822]]\n",
            "[[-169.60139274]]\n",
            "[[-2.42022649]]\n",
            "[[-168.5215782]]\n"
          ],
          "name": "stdout"
        }
      ]
    },
    {
      "cell_type": "code",
      "metadata": {
        "id": "fYYxSqvC7MLx",
        "colab_type": "code",
        "colab": {
          "base_uri": "https://localhost:8080/",
          "height": 71
        },
        "outputId": "0f09a947-7217-4262-b39f-e4b081529361"
      },
      "source": [
        "print(class_1_new)\n",
        "\n",
        "print(class_2_new)"
      ],
      "execution_count": 103,
      "outputs": [
        {
          "output_type": "stream",
          "text": [
            "[array([2.3508, 4.1879]), array([1.8667, 4.378 ]), array([1.5112, 3.2326]), array([1.6558, 4.1343]), array([2.6463, 3.473 ]), array([1.7044, 3.6651]), array([1.9554, 4.1154]), array([1.4377, 4.3193]), array([2.8175, 3.5453]), array([2.1897, 3.1463]), array([2.6405, 4.1396]), array([2.8678, 4.6904]), array([1.7469, 4.2172]), array([3.1863, 3.5804]), array([2.4038, 3.729 ]), array([1.7766, 4.1107]), array([1.5214, 3.9072]), array([2.2205, 3.9642]), array([2.9312, 4.7409]), array([2.0405, 4.235 ]), array([1.8348, 4.1139]), array([1.8932, 4.8944]), array([2.0206, 4.8171])]\n",
            "[array([ 7.8082, 11.1184]), array([7.9464, 9.0686]), array([ 8.3723, 10.3132]), array([7.8114, 9.8536]), array([7.8819, 9.7693]), array([ 8.4721, 10.0221]), array([6.9612, 9.7645]), array([ 7.9282, 10.8756]), array([7.518, 9.674]), array([ 8.2924, 10.5008]), array([ 7.927, 10.811]), array([ 7.2435, 10.4561]), array([8.0695, 9.5962]), array([ 8.0277, 10.4317]), array([ 8.029 , 10.4983]), array([ 7.7895, 10.124 ]), array([8.2541, 9.9269])]\n"
          ],
          "name": "stdout"
        }
      ]
    },
    {
      "cell_type": "markdown",
      "metadata": {
        "id": "y2ng3ANu8mOd",
        "colab_type": "text"
      },
      "source": [
        "# **Task 4:** Plot the classified samples with different colored markers according to the assigned class label. "
      ]
    },
    {
      "cell_type": "code",
      "metadata": {
        "id": "bwFJD0PqV-P8",
        "colab_type": "code",
        "colab": {}
      },
      "source": [
        "class_1_x =[]\n",
        "class_1_y =[]\n",
        "\n",
        "class_2_x =[]\n",
        "\n",
        "class_2_y =[]"
      ],
      "execution_count": 104,
      "outputs": []
    },
    {
      "cell_type": "code",
      "metadata": {
        "id": "FWnaR2eFHtAY",
        "colab_type": "code",
        "colab": {
          "base_uri": "https://localhost:8080/",
          "height": 34
        },
        "outputId": "15048e51-56c2-40c0-b73b-13e6de2f0846"
      },
      "source": [
        "len(w)"
      ],
      "execution_count": 105,
      "outputs": [
        {
          "output_type": "execute_result",
          "data": {
            "text/plain": [
              "40"
            ]
          },
          "metadata": {
            "tags": []
          },
          "execution_count": 105
        }
      ]
    },
    {
      "cell_type": "code",
      "metadata": {
        "id": "XT_e7GfJWCmO",
        "colab_type": "code",
        "colab": {}
      },
      "source": [
        "for i in range(len(class_1_new)):\n",
        "   \n",
        "    class_1_x.append(class_1_new[i][0])\n",
        "    \n",
        "    class_1_y.append(class_1_new[i][1])\n",
        "\n",
        "for i in range(len(class_2_new)):\n",
        "   \n",
        "    class_2_x.append(class_2_new[i][0])\n",
        "    \n",
        "    class_2_y.append(class_2_new[i][1])"
      ],
      "execution_count": 110,
      "outputs": []
    },
    {
      "cell_type": "markdown",
      "metadata": {
        "id": "YfZmSlbmJU9c",
        "colab_type": "text"
      },
      "source": [
        "**Accuracy of the model**"
      ]
    },
    {
      "cell_type": "code",
      "metadata": {
        "id": "mCxntGmwJT7B",
        "colab_type": "code",
        "colab": {
          "base_uri": "https://localhost:8080/",
          "height": 68
        },
        "outputId": "d969dc9f-73a9-4635-c271-a87b345719d9"
      },
      "source": [
        "count1=0\n",
        "count2=0\n",
        "for i in range(len(w)):\n",
        "  if ((class_1_x==w[0]) and (class_1_y == w[1])):\n",
        "    count1 = count1+1\n",
        "  else:\n",
        "    count2 = count2+1\n",
        "  total = count1+count2\n",
        "  \n",
        "print(\"Accuracy:\", (total/len(w))*100 ,\"%\")"
      ],
      "execution_count": 111,
      "outputs": [
        {
          "output_type": "stream",
          "text": [
            "Accuracy: 100.0 %\n"
          ],
          "name": "stdout"
        },
        {
          "output_type": "stream",
          "text": [
            "/usr/local/lib/python3.6/dist-packages/ipykernel_launcher.py:4: DeprecationWarning: elementwise comparison failed; this will raise an error in the future.\n",
            "  after removing the cwd from sys.path.\n"
          ],
          "name": "stderr"
        }
      ]
    },
    {
      "cell_type": "code",
      "metadata": {
        "id": "g23WwAq-WJ8c",
        "colab_type": "code",
        "colab": {
          "base_uri": "https://localhost:8080/",
          "height": 265
        },
        "outputId": "0107d1e8-5d73-4f62-f03f-604e74078811"
      },
      "source": [
        "\n",
        "plt.scatter(class_1_x, class_1_y, c='r', marker='+',label='Class 1')\n",
        "plt.scatter(class_2_x, class_2_y, c='g', marker='o',label='Class 2')\n",
        "\n",
        "plt.legend()\n",
        "plt.show()"
      ],
      "execution_count": 112,
      "outputs": [
        {
          "output_type": "display_data",
          "data": {
            "image/png": "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\n",
            "text/plain": [
              "<Figure size 432x288 with 1 Axes>"
            ]
          },
          "metadata": {
            "tags": [],
            "needs_background": "light"
          }
        }
      ]
    },
    {
      "cell_type": "code",
      "metadata": {
        "id": "jvAU5OSiE1Wc",
        "colab_type": "code",
        "colab": {}
      },
      "source": [
        ""
      ],
      "execution_count": null,
      "outputs": []
    }
  ]
}