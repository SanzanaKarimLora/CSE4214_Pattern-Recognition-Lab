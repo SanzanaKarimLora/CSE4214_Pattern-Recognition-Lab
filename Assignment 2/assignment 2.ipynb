{
  "nbformat": 4,
  "nbformat_minor": 0,
  "metadata": {
    "colab": {
      "name": "Assignment 2_PR Lab.ipynb",
      "provenance": [],
      "collapsed_sections": []
    },
    "kernelspec": {
      "name": "python3",
      "display_name": "Python 3"
    }
  },
  "cells": [
    {
      "cell_type": "markdown",
      "metadata": {
        "id": "pMwOs6_Zh4em",
        "colab_type": "text"
      },
      "source": [
        "Course Name : Pattern Recognition Lab\n",
        "\n",
        "Course No : CSE4214\n",
        "\n",
        "Experiment Name : Implementing the Perceptron algorithm for finding the weights of a Linear Discriminant function\n",
        "\n",
        "Name : Sanzana Karim Lora\n",
        "\n",
        
      ]
    },
    {
      "cell_type": "code",
      "metadata": {
        "id": "Cp-dijUFh7yd",
        "colab_type": "code",
        "colab": {}
      },
      "source": [
        "import numpy as np\n",
        "import matplotlib.pyplot as plt\n",
        "import pandas as pd\n",
        "from tabulate import tabulate"
      ],
      "execution_count": null,
      "outputs": []
    },
    {
      "cell_type": "code",
      "metadata": {
        "id": "sWQKettyiIgj",
        "colab_type": "code",
        "colab": {}
      },
      "source": [
        "def getHignDimensionalvalue(x1, x2, isNormalized):\n",
        "    if not isNormalized:\n",
        "        return [x1 * x1, x2 * x2, x1 * x2, x1, x2, 1]\n",
        "    else:\n",
        "        return [x1 * x1 * -1, x2 * x2 * -1, x1 * x2 * -1, x1 * -1, x2 * -1, 1 * -1]\n"
      ],
      "execution_count": null,
      "outputs": []
    },
    {
      "cell_type": "code",
      "metadata": {
        "id": "hi5JVLHviPEk",
        "colab_type": "code",
        "colab": {}
      },
      "source": [
        "def gy(y, wT):\n",
        "    ans = []\n",
        "    for aY in y:\n",
        "        ans.append(aY[0] * wT[0] + aY[1] * wT[1] + aY[2] * wT[2] + aY[3] * wT[3] + aY[4] * wT[4] + aY[5] * wT[5])\n",
        "    return ans\n"
      ],
      "execution_count": null,
      "outputs": []
    },
    {
      "cell_type": "code",
      "metadata": {
        "id": "zL0wbLNyiVXx",
        "colab_type": "code",
        "colab": {}
      },
      "source": [
        "def signleWtY(y, w):\n",
        "    return y[0] * w[0] + y[1] * w[1] + y[2] * w[2] + y[3] * w[3] + y[4] * w[4] + y[5] * w[5]\n"
      ],
      "execution_count": null,
      "outputs": []
    },
    {
      "cell_type": "code",
      "metadata": {
        "id": "V50MeLfCiJCl",
        "colab_type": "code",
        "colab": {}
      },
      "source": [
        "def isAllClassified(gy):\n",
        "    for i in gy:\n",
        "        if i <= 0:\n",
        "            return False\n",
        "    return True\n"
      ],
      "execution_count": null,
      "outputs": []
    },
    {
      "cell_type": "code",
      "metadata": {
        "id": "UFmr5oovifVO",
        "colab_type": "code",
        "colab": {}
      },
      "source": [
        "def manyAtATime(myHighDimensionalArrays, initialWeightVector, ALPHA):\n",
        "    counter = 1\n",
        "    while counter <= 200:\n",
        "        currentGy = gy(myHighDimensionalArrays, initialWeightVector)\n",
        "\n",
        "        if isAllClassified(currentGy):\n",
        "            print(\"For Alpha \", ALPHA, \" in Many at a time weight Coefficient \", initialWeightVector)\n",
        "            return counter\n",
        "        else:\n",
        "            misclassified = []\n",
        "            for i in range(0, len(currentGy)):\n",
        "                if currentGy[i] <= 0:\n",
        "                    misclassified.append(myHighDimensionalArrays[i])\n",
        "\n",
        "            modifiedMissClassified = []\n",
        "            for aMissClassified in misclassified:\n",
        "                modifiedMissClassified.append([i * ALPHA for i in aMissClassified])\n",
        "\n",
        "            modifiedMissClassified.append(initialWeightVector)\n",
        "\n",
        "            initialWeightVector = np.sum(modifiedMissClassified, axis=0)\n",
        "\n",
        "        counter += 1\n",
        "    return -1\n"
      ],
      "execution_count": null,
      "outputs": []
    },
    {
      "cell_type": "code",
      "metadata": {
        "id": "rso9-tKkik9A",
        "colab_type": "code",
        "colab": {}
      },
      "source": [
        "def oneAtATime(myHighDimensionalArrays, initialWeightVector, ALPHA):\n",
        "    updateFunction = []\n",
        "    counter = 0\n",
        "\n",
        "    while counter < 200:\n",
        "        counter += 1\n",
        "        numberOfClassified = 0\n",
        "\n",
        "        for aHighDimensionalArray in myHighDimensionalArrays:\n",
        "            wTy = signleWtY(aHighDimensionalArray, initialWeightVector)\n",
        "            if (wTy <= 0):\n",
        "                updateFunction = aHighDimensionalArray\n",
        "                modifiedUpdateFunction = [i * ALPHA for i in updateFunction]\n",
        "                temp = []\n",
        "\n",
        "                temp.append(modifiedUpdateFunction)\n",
        "                temp.append(initialWeightVector)\n",
        "                initialWeightVector = np.sum(temp, axis=0)\n",
        "            else:\n",
        "                numberOfClassified += 1\n",
        "\n",
        "        if numberOfClassified == 6:\n",
        "            print(\"For Alpha \", ALPHA, \" in One at a time weight Coefficient \", initialWeightVector)\n",
        "            return counter\n",
        "    return -1\n",
        "\n"
      ],
      "execution_count": null,
      "outputs": []
    },
    {
      "cell_type": "code",
      "metadata": {
        "id": "GqgmaOuzirw8",
        "colab_type": "code",
        "colab": {}
      },
      "source": [
        "def drowGroupChart(oneCountArray, manyCountArray, title):\n",
        "    fig, ax = plt.subplots()\n",
        "    plt.xlabel('Learning Rate')\n",
        "    plt.ylabel('Numbers Of Iterations')\n",
        "    plt.title(title)\n",
        "    index = alphaValues\n",
        "    bar_width = 0.025\n",
        "    opacity = 0.8\n",
        "\n",
        "    rects1 = plt.bar(index, oneCountArray, bar_width,\n",
        "                     alpha=opacity,\n",
        "                     color='b',\n",
        "                     label='One at a time')\n",
        "\n",
        "    rects2 = plt.bar(index + bar_width, manyCountArray, bar_width,\n",
        "                     alpha=opacity,\n",
        "                     color='y',\n",
        "                     label='Many at a time')\n",
        "\n",
        "    plt.xticks(index + bar_width, tuple(alphaValues))\n",
        "    plt.legend()\n",
        "\n",
        "    plt.tight_layout()\n",
        "    plt.show()\n"
      ],
      "execution_count": null,
      "outputs": []
    },
    {
      "cell_type": "code",
      "metadata": {
        "id": "f-yXTRy4iyNq",
        "colab_type": "code",
        "colab": {
          "resources": {
            "http://localhost:8080/nbextensions/google.colab/files.js": {
              "data": "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",
              "ok": true,
              "headers": [
                [
                  "content-type",
                  "application/javascript"
                ]
              ],
              "status": 200,
              "status_text": ""
            }
          },
          "base_uri": "https://localhost:8080/",
          "height": 74
        },
        "outputId": "91f1e8d9-23be-4ed0-dda3-6db357d2f480"
      },
      "source": [
        "from google.colab import files\n",
        "\n",
        "uploaded = files.upload()"
      ],
      "execution_count": null,
      "outputs": [
        {
          "output_type": "display_data",
          "data": {
            "text/html": [
              "\n",
              "     <input type=\"file\" id=\"files-4c16f122-edff-4e7e-bf11-95549109ba95\" name=\"files[]\" multiple disabled />\n",
              "     <output id=\"result-4c16f122-edff-4e7e-bf11-95549109ba95\">\n",
              "      Upload widget is only available when the cell has been executed in the\n",
              "      current browser session. Please rerun this cell to enable.\n",
              "      </output>\n",
              "      <script src=\"/nbextensions/google.colab/files.js\"></script> "
            ],
            "text/plain": [
              "<IPython.core.display.HTML object>"
            ]
          },
          "metadata": {
            "tags": []
          }
        },
        {
          "output_type": "stream",
          "text": [
            "Saving train.txt to train (1).txt\n"
          ],
          "name": "stdout"
        }
      ]
    },
    {
      "cell_type": "code",
      "metadata": {
        "id": "l8a8xHIDjJKx",
        "colab_type": "code",
        "colab": {}
      },
      "source": [
        "\n",
        "trainDataset = pd.read_csv('train.txt', sep=\" \", header=None)"
      ],
      "execution_count": null,
      "outputs": []
    },
    {
      "cell_type": "code",
      "metadata": {
        "id": "LoIykdkzjSlr",
        "colab_type": "code",
        "colab": {}
      },
      "source": [
        "# ploting the train.txt data\n",
        "def plotTrain():\n",
        " class1X = []\n",
        " class1Y = []\n",
        "\n",
        " class2X = []\n",
        " class2Y = []\n",
        " for arr in trainDataset.values:\n",
        "    if arr[2] == 1:\n",
        "        class1X.append(arr[0])\n",
        "        class1Y.append(arr[1])\n",
        "    elif arr[2] == 2:\n",
        "        class2X.append(arr[0])\n",
        "        class2Y.append(arr[1])\n",
        "\n",
        " plt.scatter(class1X, class1Y, marker=\"*\", color='red',label='class 1')\n",
        " plt.scatter(class2X, class2Y, marker=\"+\", color='blue',label='class 2')\n",
        " plt.legend()\n",
        "# plt.show()\n"
      ],
      "execution_count": null,
      "outputs": []
    },
    {
      "cell_type": "code",
      "metadata": {
        "id": "1KEtH4w2jYS3",
        "colab_type": "code",
        "colab": {}
      },
      "source": [
        "# MeanClassifier\n",
        "class1MeanMatrix = np.array([np.mean(class1X), np.mean(class1Y)])\n",
        "class2MeanMatrix = np.array([np.mean(class2X), np.mean(class2Y)])\n"
      ],
      "execution_count": null,
      "outputs": []
    },
    {
      "cell_type": "code",
      "metadata": {
        "id": "yLKAbZ1Hjd7M",
        "colab_type": "code",
        "colab": {}
      },
      "source": [
        "# Dicission Boundary\n",
        "#min = min(class1X.__add__(class2Y).__add__(class2X).__add__(class2Y))\n",
        "xvalues = np.arange(min, 7, 0.25)\n"
      ],
      "execution_count": null,
      "outputs": []
    },
    {
      "cell_type": "code",
      "metadata": {
        "id": "TKIKJXdSksMk",
        "colab_type": "code",
        "colab": {
          "base_uri": "https://localhost:8080/",
          "height": 282
        },
        "outputId": "aacce1d3-7cab-4008-e79f-95a587556d97"
      },
      "source": [
        "\n",
        "constant = (np.dot(np.transpose(class1MeanMatrix), class1MeanMatrix) - np.dot(np.transpose(class2MeanMatrix),\n",
        "                                                                              class2MeanMatrix)) / 2.0\n",
        "coeff1 = np.dot(np.transpose(class1MeanMatrix), np.array([1, 1]))\n",
        "coeff2 = np.dot(np.transpose(class2MeanMatrix), np.array([1, 1]))\n",
        "\n",
        "yValues = []\n",
        "for x in xvalues:\n",
        "    yValues.append((coeff1 * x + constant) / coeff2)\n",
        "plotTrain()\n",
        "plt.scatter(xvalues, yValues, marker=\".\", color=\"k\")\n",
        "# plt.show()\n"
      ],
      "execution_count": null,
      "outputs": [
        {
          "output_type": "execute_result",
          "data": {
            "text/plain": [
              "<matplotlib.collections.PathCollection at 0x7f64d8daa438>"
            ]
          },
          "metadata": {
            "tags": []
          },
          "execution_count": 58
        },
        {
          "output_type": "display_data",
          "data": {
            "image/png": "iVBORw0KGgoAAAANSUhEUgAAAXIAAAD4CAYAAADxeG0DAAAABHNCSVQICAgIfAhkiAAAAAlwSFlz\nAAALEgAACxIB0t1+/AAAADh0RVh0U29mdHdhcmUAbWF0cGxvdGxpYiB2ZXJzaW9uMy4xLjMsIGh0\ndHA6Ly9tYXRwbG90bGliLm9yZy+AADFEAAAWF0lEQVR4nO3df3DU9Z3H8ee7mBgEq1PhMgwxgsrU\nChrEBYxcFeVaf7Xao9oxqYL9o7k/WsXxxJETRyBaz5nOjR29qYfankw5O0DrjBWs15Oi55iqobUK\nob0qJ5N12pJGoVJOA/R9f+xGkYRkk/3sfr+f3ddjZmez6/L5vsM473x457WfNXdHRETi9YmkCxAR\nkeKokYuIRE6NXEQkcmrkIiKRUyMXEYncMUlcdMKECT5lypQkLi0iEq2tW7f+yd0nHvl8Io18ypQp\ndHZ2JnFpEZFomdmuwZ7XaEVEJHJq5CIikVMjFxGJXCIz8sEcOHCAbDbL+++/n3QpqVFXV0dDQwM1\nNTVJlyIiKZaaRp7NZjn++OOZMmUKZpZ0OYlzd3p7e8lms0ydOjXpckQkxVIzWnn//fc56aST1MTz\nzIyTTjpJ/0IRkWGlppEDauJH0N+HiBQiVY1cRKRSdXR0cO+999LR0RF87dTMyNNqxYoVjB8/nltv\nvTX42nfccQdr1qzh3XffZd++fcHXF5F06OjoYMGCBfT19VFbW8uzzz5Lc3NzsPW1I0/QF7/4RV5+\n+eWkyxCREtuyZQt9fX0cOnSIvr4+tmzZEnT9uBv53r0wfXruPoA1a9Zw9tln09TUxPXXXz/gvz/8\n8MPMnj2bpqYmvvzlL7N//34A1q9fz4wZM2hqauKCCy4AYPv27cyZM4eZM2dy9tln87vf/W7Aeued\ndx6TJk0KUruIpNf8+fOpra1lzJgx1NbWMn/+/KDrxz1a2bgRurpg0yZoaSlqqe3bt3P33Xfz4osv\nMmHCBN55550Br1m4cCFf//rXAVi+fDmPPvooN954I6tWreKZZ55h8uTJ7NmzB4CHHnqIJUuW8NWv\nfvXDn8QiUp2am5t59tln2bJlC/Pnzw86VoFYd+StrTB+PCxenHu8aFHucWvrqJfcvHkz11xzDRMm\nTADgU5/61IDXbNu2jc9+9rOcddZZrF27lu3btwMwb948brjhBh5++OEPG3ZzczPf+ta3uO+++9i1\naxdjx44ddW0iEr/m5maWLVsWvIlDrI181SpobIT+dzzW1MApp0B7e0kve8MNN/Dggw/y+uuvc9dd\nd32Y8X7ooYe4++676e7u5txzz6W3t5fW1laefPJJxo4dy+WXX87mzZtLWpuIVK8gjdzMTjSzDWb2\nGzPbYWbhf+Qc7vTTc838wAEYNy53v3IlnHbaqJe8+OKLWb9+Pb29vQCDjlbee+89Jk2axIEDB1i7\ndu2Hz7/55pvMnTuXVatWMXHiRLq7u9m5cyennnoqN910E1dddRWvvfbaqGsTkfQpZZxwpELtyL8D\n/NTdzwCagB2B1j26detyTXzlytz9+vVFLTd9+nTuuOMOLrzwQpqamrjlllsGvKa9vZ25c+cyb948\nzjjjjA+fX7p0KWeddRYzZszg/PPPp6mpiXXr1jFjxgxmzpzJtm3bWLRo0YD1brvtNhoaGti/fz8N\nDQ2sWLGiqO9BRMqjP0545513smDBgsSbubl7cQuYnQC8CpzqBS6WyWT8yA+W2LFjB5/5zGcKv/Ar\nr+TGK/X18Mc/Qnc3ZDIjqDwOI/57EZGSu/fee7nzzjs5dOgQY8aMob29nWXLlpX8uma21d0HNLoQ\nqZWpQA/wfTNrArYCS9z9L0cU0Aa0ATQ2NhZ/1dmzP/q6vj53ExEpg/44Yf8bfELHCUcqxGjlGGAW\n8F13Pwf4C3D7kS9y99XunnH3zMSJAz5yTkQkGv1xwvb29uDv0hyNEDvyLJB195fyjzcwSCMXEakk\nzc3NiTfwfkXvyN39D0C3mX06/9QCoKvYdUVEyi1NSZSRCPXOzhuBtWZWC+wEvhZoXRGRsij1wVal\nFCR+6O6v5uffZ7v7l9z93RDrioiUS6kPtiqlON/ZWUYrVqzg29/+dvB19+/fzxVXXMEZZ5zB9OnT\nuf12/VpBJEmlPtiqlOI+NCtyt956KxdddBF9fX0sWLCAp59+mssuuyzpskSqUqkPtiqlqHfk8+fn\nbqGU8xjb4447josuugiA2tpaZs2aRTabDffNiMiIlfJgq1LSjjwvyWNs9+zZw09+8hOWLFlSmm9O\nRCpalI28fxf+3HMff1zM7yYKPcZ2+fLl7Nmzh3379nHJJZcAHx1j+5WvfIWFCxcCuZ/s99xzD9ls\nloULFzJt2rRBr3vw4EFaWlq46aabOPXUU0f/DYjIoDo6OqIcl4xE1KOVcivFMbZtbW1MmzaNm2++\nuZzfikhVSNvhVqUSZSPfsiV3u/DC3K3/cTGSOMZ2+fLl7N27l/vvv7+44kVkUDFHCkciykZeCuU+\nxjabzXLPPffQ1dXFrFmzmDlzJo888kjJv0+RahJzpHAkij7GdjSCHGNbJfT3IlKcSpqRl/IYWxGR\n1ErT4ValotGKiEQn1sOtSiVVO3J3x8ySLiM1khh7iaRdzIdblUpqduR1dXX09vaqeeW5O729vdTV\n1SVdikiqVEsSZSRSsyNvaGggm83S09OTdCmpUVdXR0NDQ9JliKRK2j5mLQ1S08hramqYOnVq0mWI\nSMrFfLhVqaSmkYuIFKoakigjkZoZuYiIjI4auYikgiKFoxdktGJmbwHvAYeAg4O980hEBrF3L5x/\nPrz4IpxwQtLVJEaRwuKE3JFf5O4z1cRFRmDjRujqgk2bkq4kUYoUFkejFZEktLbC+PGweHHu8aJF\nucetrcnWlZBqOdyqVIIcmmVm/wu8Czjwb+6+epDXtAFtAI2Njefu2rWr6OuKROuNN+DKK+Gtt+D/\n/g/GjoWpU+HJJ+G005KuLhGVdLhVqRzt0KxQjXyyu79tZn8D/Ay40d2fP9rrBzv9UKTqbNgALS1w\n7LHwwQfw+ONw9dVJVyUpdrRGHmS04u5v5+93A08Ac0KsK1LR1q2DceNg5crc/fr1SVcUlFIo5VN0\nasXMxgGfcPf38l9/HlhVdGUilW7pUnjgAaivh+uug+7upCsKRimU8gqxI68HXjCzXwMvAxvd/acB\n1hWpbLNn55o45O4zlRP4UgqlvIrekbv7TqApQC0iUiF0sFV56awVEQlOB1uVlxq5iJSEDrYqH70h\nSEQKpiRKOmlHLiIFURIlvbQjF5GCKImSXmrkIlIQnYeSXhqtiEhBlERJLzVyESmYkijppNGKiEjk\n1MhFqpwihfHTaEWkiilSWBm0IxepYooUVgY1cpEqpkhhZdBoRaSKKVJYGdTIRaqcIoXx02hFpAIp\niVJdtCMXqTBKolQf7chFKoySKNUnWCM3szFm9iszeyrUmiIyckqiVJ+Qo5UlwA7gkwHXFJERUhKl\n+gRp5GbWAFwB3APcEmJNERk9JVGqS6jRyv3AbcBfj/YCM2szs04z6+zp6Ql0WRERKbqRm9kXgN3u\nvnWo17n7anfPuHtm4sSJxV5WpOooUihHE2K0Mg+40swuB+qAT5rZD9z9ugBriwiKFMrQit6Ru/sy\nd29w9ynAtcBmNXGRsBQplKEoRy4SAUUKZShB39np7luALSHXFBFFCmVoeou+SCQUKZSj0WhFJEFK\nokgI2pGLJERJFAlFO3KRhCiJIqGokYskREkUCUWjFZGEKIkioaiRiyRISRQJQaMVEZHIqZGLBKQ4\noSRBoxWRQBQnlKRoRy4SiOKEkhQ1cpFAFCeUpGi0IhKI4oSSFDVykYAUJ5QkaLQiMgwlUSTttCMX\nGYKSKBID7chFhqAkisRAjVxkCEqiSAyKHq2YWR3wPHBsfr0N7n5XsetKsvr7VbVvQJVEkRiEmJF/\nAFzs7vvMrAZ4wcyedvdfBFhbJHFKokjaFd3I3d2BffmHNfmbF7uuJKN/J/7ccx9/XO07c5E0CzIj\nN7MxZvYqsBv4mbu/NMhr2sys08w6e3p6QlxWZNQUKZRKYrkNdaDFzE4EngBudPdtR3tdJpPxzs7O\nYNeV8Cp5J65IocTKzLa6e+bI54OmVtx9D/Bz4NKQ64qEpEihVJoQqZWJwAF332NmY4HPAfcVXZkk\nqpJ7W3+ksH9HrkihxC5EamUS8JiZjSG3w1/n7k8FWFekJBQplEoTdEZeKM3IRURGriwzcpEkKYki\n1UqHZklFUBJFqpl25FIRlESRaqZGLhVBh1tJNdNoRQYV2xuClESRaqZGLhVDh1tJtVIjl49J26FZ\nHR0d2mWLDEONXFJLSRSRwqiRy8f077yT3onnrj0wiaJGLjKQUiuSWkqiiBRGO3IZVBrSKkqiiBRG\njVxSTUkUkeFptCIiEjk1cikrHWwlEp5GK1I2ihOKlIZ25FI2OthKpDTUyKVsFCcUKQ2NVqRsFCcU\nKY0QH758MrAGqAccWO3u3yl23aNJwzsOZfQUJxQJL8Ro5SDwj+5+JnAe8A0zOzPAuhIJJVFEklX0\njtzdfw/8Pv/1e2a2A5gMdBW79uHSdiqf5CiJIpK8oL/sNLMpwDnAS4P8tzYz6zSzzp6enpCXlQQp\niSKSvGC/7DSz8cCPgJvd/c9H/nd3Xw2sBshkMj7S9dN0Kp98pD+J0r8jVxJFpPyCNHIzqyHXxNe6\n+49DrClxUBJFJHnmPuLN8ccXMDPgMeAdd7+5kD+TyWS8s7OzqOuKiFQbM9vq7pkjnw8xI58HXA9c\nbGav5m+XB1hXREQKECK18gJgAWqRFNFnZYrEQ+/slAEUKRSJi85akQEUKRSJixq5DKDDrUTiotGK\nDKBIoUhc1MhlUDrcSiQeGq1UER1uJVKZtCOvEkqiiFQu7cirhJIoIpVLjbxKKIkiUrk0WqkSSqKI\nVC418iqiJIpIZdJoRUQkcmrkkVOkUEQ0WomYIoUiAtqRR02RQhEBNfKoKVIoIqDRStQUKRQRUCOP\nniKFIhJktGJm3zOz3Wa2LcR6FWfvXpg+PXc/DKVQRGSkQu3I/x14EFgTaL3KsnEjdHXBpk3Q0nLU\nlymFIiKjEWRH7u7PA++EWKuitLbC+PGweHHu8aJFucetrYO+XCkUERmNsqVWzKzNzDrNrLOnp6dc\nl03WqlXQ2Ag1NbnHNTVwyinQ3j7oy5VCEZHRMHcPs5DZFOApd58x3GszmYx3dnYGuW7qbdiQG6cc\neyx88AE8/jhcffVRX97R0aEUiogMysy2unvmyOeVIy+1detg3DhYuTJ3v379kC9vbm5m2bJlauIi\nUjDFD0tt6VI6Fi9my2uvMX/tWprr65OuSEQqTJBGbmaPA/OBCWaWBe5y90dDrB27joMHWXDNNR9P\noiRdlIhUlFCplRZ3n+TuNe7eoCb+ESVRRKTUNCMvMSVRRKTUNCMvMZ2HIiKlpkZeBjoPRURKSaMV\nEZHIqZGPkg63EpG00GhlFHS4lYikiXbko6BIoYikiRr5KChSKCJpotHKKChSKCJpokY+SooUikha\naLRyGCVRRCRG2pHnKYkiIrHSjjxPSRQRiZUaeZ6SKCISK41W8pREEZFYqZEfRkkUEYmRRisiIpGr\n+EauSKGIVLpQn9l5KfAdYAzwiLv/c4h1i6VIoYhUg6J35GY2BvhX4DLgTKDFzM4sdt0QFCkUkWoQ\nYrQyB3jD3Xe6ex/wQ+CqAOsWTZFCEakGIUYrk4Huwx5ngblHvsjM2oA2gMbGxgCXHZ4ihSJSDcoW\nP3T31cBqgEwm4+W6riKFIlLpQoxW3gZOPuxxQ/65klAKRUTk40LsyF8BppnZVHIN/FqgNcC6AyiF\nIiIyUNE7cnc/CHwTeAbYAaxz9+3FrjsYpVBERAYKMiN3903AphBrDaU/hdK/I1cKRUQksrNWlEIR\nERkoqkYOSqGIiByp4s9aERGpdGrkIiKRUyMXEYmcGrmISOTUyEVEIqdGLiISOTVyEZHIqZGLiERO\njVxEJHJq5CIikVMjFxGJnBq5iEjk1MhFRCKnRi4iEjk1chGRyBXVyM3sGjPbbmZ/NbNMqKJERKRw\nxe7ItwELgecD1FK59u6F6dNz9yIigRXVyN19h7v/NlQxFWvjRujqgk0l/1hTEalCmpGXUmsrjB8P\nixfnHi9alHvc2ppsXSJSUYZt5Gb2X2a2bZDbVSO5kJm1mVmnmXX29PSMvuKYrFoFjY1QU5N7XFMD\np5wC7e3J1iUiFWXYD192978LcSF3Xw2sBshkMh5izdQ7/fRcM29pgXHj4IMPYOVKOO20pCsTkQqi\n0UqprVuXa+IrV+bu169PuiIRqTDD7siHYmZ/DzwATAQ2mtmr7n5JkMoqxdKl8MADUF8P110H3d1J\nVyQiFaaoRu7uTwBPBKqlMs2e/dHX9fW5m4hIQBqtiIhETo1cRCRyauQiIpFTIxcRiZwauYhI5My9\n/O/NMbMeYFcRS0wA/hSonHJRzeWhmksvtnqhcmo+xd0nHvnCRBp5scys092jOjZXNZeHai692OqF\nyq9ZoxURkcipkYuIRC7WRr466QJGQTWXh2ouvdjqhQqvOcoZuYiIfCTWHbmIiOSpkYuIRC66Rm5m\nl5rZb83sDTO7Pel6hmNm3zOz3Wa2LelaCmVmJ5vZz82sy8y2m9mSpGsaipnVmdnLZvbrfL0rk66p\nUGY2xsx+ZWZPJV1LIczsLTN73cxeNbPOpOsphJmdaGYbzOw3ZrbDzJqTrulozOzT+b/b/tufzezm\nYf9cTDNyMxsD/A/wOSALvAK0uHtXooUNwcwuAPYBa9x9RtL1FMLMJgGT3P2XZnY8sBX4Ulr/ns3M\ngHHuvs/MaoAXgCXu/ouESxuWmd0CZIBPuvsXkq5nOGb2FpBx92jeXGNmjwH/7e6PmFktcJy770m6\nruHk+93bwFx3H/INlLHtyOcAb7j7TnfvA34IjOizQ8vN3Z8H3km6jpFw99+7+y/zX78H7AAmJ1vV\n0XnOvvzDmvwt9TsUM2sArgAeSbqWSmVmJwAXAI8CuHtfDE08bwHw5nBNHOJr5JOBwz9iJ0uKG0wl\nMLMpwDnAS8lWMrT8iOJVYDfwM3dPdb159wO3AX9NupARcOA/zWyrmbUlXUwBpgI9wPfzI6xHzGxc\n0kUV6Frg8UJeGFsjlzIys/HAj4Cb3f3PSdczFHc/5O4zgQZgjpmleoxlZl8Adrv71qRrGaG/dfdZ\nwGXAN/KjwzQ7BpgFfNfdzwH+AsTwu7Va4EqgoA/5ja2Rvw2cfNjjhvxzElh+1vwjYK27/zjpegqV\n/2fzz4FLk65lGPOAK/Mz5x8CF5vZD5ItaXju/nb+fje5j3mck2xFw8oC2cP+hbaBXGNPu8uAX7r7\nHwt5cWyN/BVgmplNzf/EuhZ4MuGaKk7+l4ePAjvc/V+Srmc4ZjbRzE7Mfz2W3C/Df5NsVUNz92Xu\n3uDuU8j9f7zZ3a9LuKwhmdm4/C+/yY8nPg+kOo3l7n8Aus3s0/mnFgCp/KX9EVoocKwCRX74crm5\n+0Ez+ybwDDAG+J67b0+4rCGZ2ePAfGCCmWWBu9z90WSrGtY84Hrg9fzcGeCf3H1TgjUNZRLwWP63\n/J8A1rl7FHG+yNQDT+R+znMM8B/u/tNkSyrIjcDa/OZvJ/C1hOsZUv6H5OeAfyj4z8QUPxQRkYFi\nG62IiMgR1MhFRCKnRi4iEjk1chGRyKmRi4hETo1cRCRyauQiIpH7f8dN7qyavZGOAAAAAElFTkSu\nQmCC\n",
            "text/plain": [
              "<Figure size 432x288 with 1 Axes>"
            ]
          },
          "metadata": {
            "tags": []
          }
        }
      ]
    },
    {
      "cell_type": "code",
      "metadata": {
        "id": "dTeWfn82oy83",
        "colab_type": "code",
        "colab": {}
      },
      "source": [
        "myHighDimensionalArrays = []\n",
        "for i in range(len(class1X)):\n",
        "    myHighDimensionalArrays.append(getHignDimensionalvalue(class1X[i], class1Y[i], False))\n",
        "\n",
        "for i in range(len(class2X)):\n",
        "    myHighDimensionalArrays.append(getHignDimensionalvalue(class2X[i], class2Y[i], True))\n"
      ],
      "execution_count": null,
      "outputs": []
    },
    {
      "cell_type": "code",
      "metadata": {
        "id": "2ZI53yY2o5di",
        "colab_type": "code",
        "colab": {
          "base_uri": "https://localhost:8080/",
          "height": 357
        },
        "outputId": "3dad4e21-ae12-4773-bba2-f45773f5da31"
      },
      "source": [
        "initialWeightVector = [1, 1, 1, 1, 1, 1]\n",
        "alphaValues = np.arange(0.1, 1.1, 0.1)\n",
        "alphaValues[2] = 0.30\n",
        "alphaValues[6] = 0.70\n",
        "table = []\n",
        "oneCountArray = []\n",
        "manyCountArray = []\n",
        "for ALPHA in alphaValues:\n",
        "    oneCount = oneAtATime(myHighDimensionalArrays, initialWeightVector, ALPHA)\n",
        "    manyCount = manyAtATime(myHighDimensionalArrays, initialWeightVector, ALPHA)\n",
        "    oneCountArray.append(oneCount)\n",
        "    manyCountArray.append(manyCount)\n",
        "    table.append([ALPHA, oneCount, manyCount])\n"
      ],
      "execution_count": null,
      "outputs": [
        {
          "output_type": "stream",
          "text": [
            "For Alpha  0.1  in One at a time weight Coefficient  [ 1.    -1.025  0.7    0.2   -0.75   0.1  ]\n",
            "For Alpha  0.1  in Many at a time weight Coefficient  [ 6.5   -4.425  2.8   -0.5   -5.45   1.2  ]\n",
            "For Alpha  0.2  in One at a time weight Coefficient  [10.  -6.7  4.4 -1.2 -9.4  3.2]\n",
            "For Alpha  0.2  in Many at a time weight Coefficient  [ 13.    -8.85   5.6   -1.   -10.9    2.4 ]\n",
            "For Alpha  0.3  in One at a time weight Coefficient  [ 16.3 -10.7   6.7  -2.3 -15.2   5.5]\n",
            "For Alpha  0.3  in Many at a time weight Coefficient  [ 17.8   -11.825   7.9    -1.4   -15.05    2.8  ]\n",
            "For Alpha  0.4  in One at a time weight Coefficient  [ 22.2 -14.3   9.8  -2.6 -20.4   7.4]\n",
            "For Alpha  0.4  in Many at a time weight Coefficient  [ 26.6 -18.   11.4  -2.2 -22.6   5.4]\n",
            "For Alpha  0.5  in One at a time weight Coefficient  [ 25.   -16.75  11.    -3.   -23.5    8.  ]\n",
            "For Alpha  0.5  in Many at a time weight Coefficient  [ 32.5   -22.125  14.     -2.5   -27.25    6.   ]\n",
            "For Alpha  0.6  in One at a time weight Coefficient  [ 29.2 -18.5  12.4  -4.4 -27.8   9.4]\n",
            "For Alpha  0.6  in Many at a time weight Coefficient  [ 40.  -26.9  17.2  -3.2 -33.8   8.2]\n",
            "For Alpha  0.7  in One at a time weight Coefficient  [ 38.8   -25.075  17.1    -4.6   -35.75   12.9  ]\n",
            "For Alpha  0.7  in Many at a time weight Coefficient  [ 41.6   -27.525  18.5    -3.2   -35.05    6.6  ]\n",
            "For Alpha  0.8  in One at a time weight Coefficient  [ 45.8 -31.2  19.4  -5.4 -42.6  16.2]\n",
            "For Alpha  0.8  in Many at a time weight Coefficient  [ 47.4 -31.6  21.   -3.8 -40.2   7.4]\n",
            "For Alpha  0.9  in One at a time weight Coefficient  [ 45.1  -30.05  19.9   -5.3  -42.2   14.5 ]\n",
            "For Alpha  0.9  in Many at a time weight Coefficient  [ 57.7  -38.15  25.3   -5.3  -49.4   10.  ]\n",
            "For Alpha  1.0  in One at a time weight Coefficient  [ 50.  -33.5  22.   -6.  -47.   16. ]\n",
            "For Alpha  1.0  in Many at a time weight Coefficient  [ 60.   -38.75  25.    -4.   -51.5   10.  ]\n"
          ],
          "name": "stdout"
        }
      ]
    },
    {
      "cell_type": "code",
      "metadata": {
        "id": "Ao88E_xVo_j9",
        "colab_type": "code",
        "colab": {
          "base_uri": "https://localhost:8080/",
          "height": 501
        },
        "outputId": "414e3cac-da66-49ef-b363-e3a0285ef715"
      },
      "source": [
        "name = [\"Alpha(Learning Rate)\", \"One at a time\", \"Many at a time\"]\n",
        "print(\"Case 1: Initial Weight Vector All One\")\n",
        "print(tabulate(table, name, tablefmt=\"youtrack\"))\n",
        "\n",
        "drowGroupChart(oneCountArray, manyCountArray, \"Case 1: Initial Weight Vector All One\")\n"
      ],
      "execution_count": null,
      "outputs": [
        {
          "output_type": "stream",
          "text": [
            "Case 1: Initial Weight Vector All One\n",
            "||    Alpha(Learning Rate)  ||    One at a time  ||    Many at a time  ||\n",
            "|                     0.1  |                6  |               102  |\n",
            "|                     0.2  |               92  |               104  |\n",
            "|                     0.3  |              104  |                91  |\n",
            "|                     0.4  |              106  |               116  |\n",
            "|                     0.5  |               93  |               105  |\n",
            "|                     0.6  |               93  |               114  |\n",
            "|                     0.7  |              108  |                91  |\n",
            "|                     0.8  |              115  |                91  |\n",
            "|                     0.9  |               94  |               105  |\n",
            "|                     1    |               94  |                93  |\n"
          ],
          "name": "stdout"
        },
        {
          "output_type": "display_data",
          "data": {
            "image/png": "iVBORw0KGgoAAAANSUhEUgAAAagAAAEYCAYAAAAJeGK1AAAABHNCSVQICAgIfAhkiAAAAAlwSFlz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\n",
            "text/plain": [
              "<Figure size 432x288 with 1 Axes>"
            ]
          },
          "metadata": {
            "tags": []
          }
        }
      ]
    },
    {
      "cell_type": "code",
      "metadata": {
        "id": "wdvAPv4ZpHLF",
        "colab_type": "code",
        "colab": {}
      },
      "source": [
        "initialWeightVector = [0, 0, 0, 0, 0, 0]\n",
        "oneCountArray = []\n",
        "manyCountArray = []\n",
        "\n",
        "table = []"
      ],
      "execution_count": null,
      "outputs": []
    },
    {
      "cell_type": "code",
      "metadata": {
        "id": "lYhiTI4BpMeL",
        "colab_type": "code",
        "colab": {
          "base_uri": "https://localhost:8080/",
          "height": 357
        },
        "outputId": "a1fc154f-f655-4c72-b9ac-e3941af74fa7"
      },
      "source": [
        "for ALPHA in alphaValues:\n",
        "    oneCount = oneAtATime(myHighDimensionalArrays, initialWeightVector, ALPHA)\n",
        "    manyCount = manyAtATime(myHighDimensionalArrays, initialWeightVector, ALPHA)\n",
        "    oneCountArray.append(oneCount)\n",
        "    manyCountArray.append(manyCount)\n",
        "    table.append([ALPHA, oneCount, manyCount])\n"
      ],
      "execution_count": null,
      "outputs": [
        {
          "output_type": "stream",
          "text": [
            "For Alpha  0.1  in One at a time weight Coefficient  [ 5.   -3.35  2.2  -0.6  -4.7   1.6 ]\n",
            "For Alpha  0.1  in Many at a time weight Coefficient  [ 6.5   -4.425  2.8   -0.5   -5.45   1.2  ]\n",
            "For Alpha  0.2  in One at a time weight Coefficient  [10.  -6.7  4.4 -1.2 -9.4  3.2]\n",
            "For Alpha  0.2  in Many at a time weight Coefficient  [ 13.    -8.85   5.6   -1.   -10.9    2.4 ]\n",
            "For Alpha  0.3  in One at a time weight Coefficient  [ 15.   -10.05   6.6   -1.8  -14.1    4.8 ]\n",
            "For Alpha  0.3  in Many at a time weight Coefficient  [ 18.    -11.625   7.5    -1.2   -15.45    3.   ]\n",
            "For Alpha  0.4  in One at a time weight Coefficient  [ 20.  -13.4   8.8  -2.4 -18.8   6.4]\n",
            "For Alpha  0.4  in Many at a time weight Coefficient  [ 26.  -17.7  11.2  -2.  -21.8   4.8]\n",
            "For Alpha  0.5  in One at a time weight Coefficient  [ 25.   -16.75  11.    -3.   -23.5    8.  ]\n",
            "For Alpha  0.5  in Many at a time weight Coefficient  [ 30.    -19.375  12.5    -2.    -25.75    5.   ]\n",
            "For Alpha  0.6  in One at a time weight Coefficient  [ 30.  -20.1  13.2  -3.6 -28.2   9.6]\n",
            "For Alpha  0.6  in Many at a time weight Coefficient  [ 36.   -23.25  15.    -2.4  -30.9    6.  ]\n",
            "For Alpha  0.7  in One at a time weight Coefficient  [ 35.   -23.45  15.4   -4.2  -32.9   11.2 ]\n",
            "For Alpha  0.7  in Many at a time weight Coefficient  [ 42.    -27.125  17.5    -2.8   -36.05    7.   ]\n",
            "For Alpha  0.8  in One at a time weight Coefficient  [ 40.  -26.8  17.6  -4.8 -37.6  12.8]\n",
            "For Alpha  0.8  in Many at a time weight Coefficient  [ 52.  -35.4  22.4  -4.  -43.6   9.6]\n",
            "For Alpha  0.9  in One at a time weight Coefficient  [ 45.   -30.15  19.8   -5.4  -42.3   14.4 ]\n",
            "For Alpha  0.9  in Many at a time weight Coefficient  [ 58.5   -39.825  25.2    -4.5   -49.05   10.8  ]\n",
            "For Alpha  1.0  in One at a time weight Coefficient  [ 50.  -33.5  22.   -6.  -47.   16. ]\n",
            "For Alpha  1.0  in Many at a time weight Coefficient  [ 60.   -38.75  25.    -4.   -51.5   10.  ]\n"
          ],
          "name": "stdout"
        }
      ]
    },
    {
      "cell_type": "code",
      "metadata": {
        "id": "5t3Lt3IRpQ6y",
        "colab_type": "code",
        "colab": {
          "base_uri": "https://localhost:8080/",
          "height": 501
        },
        "outputId": "3ed96570-f62e-42c4-8fad-8595f45fcfbc"
      },
      "source": [
        "name = [\"Alpha(Learning Rate)\", \"One at a time\", \"Many at a time\"]\n",
        "print(\"Case 2: Initial Weight Vector All Zero\")\n",
        "print(tabulate(table, name, tablefmt=\"youtrack\"))\n",
        "\n",
        "drowGroupChart(oneCountArray, manyCountArray, \"Case 2: Initial Weight Vector All Zero\")\n"
      ],
      "execution_count": null,
      "outputs": [
        {
          "output_type": "stream",
          "text": [
            "Case 2: Initial Weight Vector All Zero\n",
            "||    Alpha(Learning Rate)  ||    One at a time  ||    Many at a time  ||\n",
            "|                     0.1  |               94  |               105  |\n",
            "|                     0.2  |               94  |               105  |\n",
            "|                     0.3  |               94  |                92  |\n",
            "|                     0.4  |               94  |               105  |\n",
            "|                     0.5  |               94  |                92  |\n",
            "|                     0.6  |               94  |                92  |\n",
            "|                     0.7  |               94  |                92  |\n",
            "|                     0.8  |               94  |               105  |\n",
            "|                     0.9  |               94  |               105  |\n",
            "|                     1    |               94  |                92  |\n"
          ],
          "name": "stdout"
        },
        {
          "output_type": "display_data",
          "data": {
            "image/png": "iVBORw0KGgoAAAANSUhEUgAAAagAAAEYCAYAAAAJeGK1AAAABHNCSVQICAgIfAhkiAAAAAlwSFlz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\n",
            "text/plain": [
              "<Figure size 432x288 with 1 Axes>"
            ]
          },
          "metadata": {
            "tags": []
          }
        }
      ]
    },
    {
      "cell_type": "code",
      "metadata": {
        "id": "FzBG40jGperb",
        "colab_type": "code",
        "colab": {}
      },
      "source": [
        "initialWeightVector = np.random.random(6)\n",
        "oneCountArray = []\n",
        "manyCountArray = []\n",
        "table = []"
      ],
      "execution_count": null,
      "outputs": []
    },
    {
      "cell_type": "code",
      "metadata": {
        "id": "29erSof2pf8g",
        "colab_type": "code",
        "colab": {
          "base_uri": "https://localhost:8080/",
          "height": 629
        },
        "outputId": "cec742cd-77b5-47cb-c8c0-d48684530929"
      },
      "source": [
        "for ALPHA in alphaValues:\n",
        "    oneCount = oneAtATime(myHighDimensionalArrays, initialWeightVector, ALPHA)\n",
        "    manyCount = manyAtATime(myHighDimensionalArrays, initialWeightVector, ALPHA)\n",
        "    oneCountArray.append(oneCount)\n",
        "    manyCountArray.append(manyCount)\n",
        "    table.append([ALPHA, oneCount, manyCount])\n"
      ],
      "execution_count": null,
      "outputs": [
        {
          "output_type": "stream",
          "text": [
            "For Alpha  0.1  in One at a time weight Coefficient  [ 5.36462258 -3.65316928  2.31231715 -0.66606997 -4.73350571  1.61784137]\n",
            "For Alpha  0.1  in Many at a time weight Coefficient  [ 5.96462258 -4.02816928  2.61231715 -0.46606997 -4.78350571  0.91784137]\n",
            "For Alpha  0.2  in One at a time weight Coefficient  [ 9.46462258 -6.10316928  4.01231715 -1.36606997 -8.63350571  2.81784137]\n",
            "For Alpha  0.2  in Many at a time weight Coefficient  [11.86462258 -8.00316928  5.21231715 -0.96606997 -9.83350571  1.81784137]\n",
            "For Alpha  0.3  in One at a time weight Coefficient  [ 15.06462258 -10.10316928   6.61231715  -1.76606997 -13.83350571\n",
            "   4.81784137]\n",
            "For Alpha  0.3  in Many at a time weight Coefficient  [ 19.56462258 -13.32816928   8.41231715  -1.46606997 -16.08350571\n",
            "   3.61784137]\n",
            "For Alpha  0.4  in One at a time weight Coefficient  [ 21.86462258 -14.75316928   9.41231715  -2.96606997 -20.53350571\n",
            "   7.01784137]\n",
            "For Alpha  0.4  in Many at a time weight Coefficient  [ 26.66462258 -18.05316928  11.41231715  -2.16606997 -22.33350571\n",
            "   5.41784137]\n",
            "For Alpha  0.5  in One at a time weight Coefficient  [ 28.66462258 -19.57816928  12.11231715  -3.36606997 -26.38350571\n",
            "  10.11784137]\n",
            "For Alpha  0.5  in Many at a time weight Coefficient  [ 33.66462258 -22.20316928  13.61231715  -2.36606997 -28.63350571\n",
            "   7.11784137]\n",
            "For Alpha  0.6  in One at a time weight Coefficient  [ 30.06462258 -20.15316928  13.21231715  -3.56606997 -27.93350571\n",
            "   9.61784137]\n",
            "For Alpha  0.6  in Many at a time weight Coefficient  [ 36.06462258 -23.30316928  15.01231715  -2.36606997 -30.63350571\n",
            "   6.01784137]\n",
            "For Alpha  0.7  in One at a time weight Coefficient  [ 38.46462258 -25.52816928  16.71231715  -4.96606997 -35.88350571\n",
            "  12.51784137]\n",
            "For Alpha  0.7  in Many at a time weight Coefficient  [ 41.96462258 -27.27816928  17.41231715  -2.86606997 -35.88350571\n",
            "   6.91784137]\n",
            "For Alpha  0.8  in One at a time weight Coefficient  [ 35.06462258 -22.45316928  15.01231715  -4.96606997 -33.13350571\n",
            "  11.01784137]\n",
            "For Alpha  0.8  in Many at a time weight Coefficient  [ 52.66462258 -34.85316928  21.41231715  -3.36606997 -44.33350571\n",
            "  10.21784137]\n",
            "For Alpha  0.9  in One at a time weight Coefficient  [ 43.86462258 -27.80316928  18.61231715  -6.56606997 -41.43350571\n",
            "  14.11784137]\n",
            "For Alpha  0.9  in Many at a time weight Coefficient  [ 63.66462258 -41.75316928  25.81231715  -4.76606997 -54.03350571\n",
            "  13.21784137]\n",
            "For Alpha  1.0  in One at a time weight Coefficient  [ 48.66462258 -30.95316928  20.61231715  -7.36606997 -46.13350571\n",
            "  15.61784137]\n",
            "For Alpha  1.0  in Many at a time weight Coefficient  [ 56.66462258 -36.70316928  23.61231715  -3.36606997 -48.63350571\n",
            "   9.61784137]\n"
          ],
          "name": "stdout"
        }
      ]
    },
    {
      "cell_type": "code",
      "metadata": {
        "id": "qcrH4uyqpjDR",
        "colab_type": "code",
        "colab": {
          "base_uri": "https://localhost:8080/",
          "height": 501
        },
        "outputId": "3a68eb38-fe9e-46b3-85f6-3f76a0297626"
      },
      "source": [
        "name = [\"Alpha(Learning Rate)\", \"One at a time\", \"Many at a time\"]\n",
        "print(\"Case 3: Initial Weight Vector Random Numbers \", initialWeightVector)\n",
        "print(tabulate(table, name, tablefmt=\"youtrack\"))\n",
        "drowGroupChart(oneCountArray, manyCountArray, \"Case 3: Initial Weight Vector Random Numbers\")"
      ],
      "execution_count": null,
      "outputs": [
        {
          "output_type": "stream",
          "text": [
            "Case 3: Initial Weight Vector Random Numbers  [0.66462258 0.54683072 0.61231715 0.63393003 0.86649429 0.61784137]\n",
            "||    Alpha(Learning Rate)  ||    One at a time  ||    Many at a time  ||\n",
            "|                     0.1  |               97  |                89  |\n",
            "|                     0.2  |               86  |                88  |\n",
            "|                     0.3  |               93  |               103  |\n",
            "|                     0.4  |              107  |               117  |\n",
            "|                     0.5  |              115  |               118  |\n",
            "|                     0.6  |               94  |                93  |\n",
            "|                     0.7  |              104  |                91  |\n",
            "|                     0.8  |               84  |               104  |\n",
            "|                     0.9  |               94  |               122  |\n",
            "|                     1    |               94  |                88  |\n"
          ],
          "name": "stdout"
        },
        {
          "output_type": "display_data",
          "data": {
            "image/png": "iVBORw0KGgoAAAANSUhEUgAAAagAAAEYCAYAAAAJeGK1AAAABHNCSVQICAgIfAhkiAAAAAlwSFlz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\nzKwi/X8O9M9+EdqLNgAAAABJRU5ErkJggg==\n",
            "text/plain": [
              "<Figure size 432x288 with 1 Axes>"
            ]
          },
          "metadata": {
            "tags": []
          }
        }
      ]
    }
  ]
}