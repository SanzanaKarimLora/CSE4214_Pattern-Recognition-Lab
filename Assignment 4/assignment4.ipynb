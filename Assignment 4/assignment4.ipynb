{
  "nbformat": 4,
  "nbformat_minor": 0,
  "metadata": {
    "colab": {
      "name": "assignment4.ipynb",
      "provenance": [],
      "collapsed_sections": []
    },
    "kernelspec": {
      "name": "python3",
      "display_name": "Python 3"
    }
  },
  "cells": [
    {
      "cell_type": "markdown",
      "metadata": {
        "id": "GNJzJM7TEiNc",
        "colab_type": "text"
      },
      "source": [
        "**Course Name** : Pattern Recognition Lab\n",
        "\n",
        "\n",
        "**Course No** : CSE4214\n",
        "\n",
        "**Experiment Name** : Implementing K-Means Clustering\n",
        "\n",
        "**Name** : Sanzana Karim Lora\n",
        "\n",
        
        "\n",
        
      ]
    },
    {
      "cell_type": "markdown",
      "metadata": {
        "id": "wWUwfN6tIPwY",
        "colab_type": "text"
      },
      "source": [
        "# **Task 1.** Take input from the given source data file and plot all the points. "
      ]
    },
    {
      "cell_type": "code",
      "metadata": {
        "id": "lHz3Zx5zezaL",
        "colab_type": "code",
        "colab": {}
      },
      "source": [
        "import pandas as pd\n",
        "import numpy as np\n",
        "import matplotlib.pyplot as plt\n"
      ],
      "execution_count": 6,
      "outputs": []
    },
    {
      "cell_type": "code",
      "metadata": {
        "id": "_USzxfrYHV8p",
        "colab_type": "code",
        "colab": {
          "base_uri": "https://localhost:8080/",
          "height": 122
        },
        "outputId": "221ea2a3-c19d-455b-83ea-b710a0671959"
      },
      "source": [
        "from google.colab import drive\n",
        "drive.mount('/content/drive')\n",
        "main_directory = '/content/drive/My Drive/Pattern lab/Assignments/assignment 4/blobs.txt'"
      ],
      "execution_count": 1,
      "outputs": [
        {
          "output_type": "stream",
          "text": [
            "Go to this URL in a browser: https://accounts.google.com/o/oauth2/auth?client_id=947318989803-6bn6qk8qdgf4n4g3pfee6491hc0brc4i.apps.googleusercontent.com&redirect_uri=urn%3aietf%3awg%3aoauth%3a2.0%3aoob&scope=email%20https%3a%2f%2fwww.googleapis.com%2fauth%2fdocs.test%20https%3a%2f%2fwww.googleapis.com%2fauth%2fdrive%20https%3a%2f%2fwww.googleapis.com%2fauth%2fdrive.photos.readonly%20https%3a%2f%2fwww.googleapis.com%2fauth%2fpeopleapi.readonly&response_type=code\n",
            "\n",
            "Enter your authorization code:\n",
            "··········\n",
            "Mounted at /content/drive\n"
          ],
          "name": "stdout"
        }
      ]
    },
    {
      "cell_type": "code",
      "metadata": {
        "id": "103ZeMxJHzhb",
        "colab_type": "code",
        "colab": {
          "base_uri": "https://localhost:8080/",
          "height": 204
        },
        "outputId": "43161e7f-933d-47c4-c73a-af3b2dd6fb3e"
      },
      "source": [
        "df = pd.read_csv(main_directory, delimiter =\" \",header=None, names=['x','y'])\n",
        "\n",
        "df.head()"
      ],
      "execution_count": 4,
      "outputs": [
        {
          "output_type": "execute_result",
          "data": {
            "text/html": [
              "<div>\n",
              "<style scoped>\n",
              "    .dataframe tbody tr th:only-of-type {\n",
              "        vertical-align: middle;\n",
              "    }\n",
              "\n",
              "    .dataframe tbody tr th {\n",
              "        vertical-align: top;\n",
              "    }\n",
              "\n",
              "    .dataframe thead th {\n",
              "        text-align: right;\n",
              "    }\n",
              "</style>\n",
              "<table border=\"1\" class=\"dataframe\">\n",
              "  <thead>\n",
              "    <tr style=\"text-align: right;\">\n",
              "      <th></th>\n",
              "      <th>x</th>\n",
              "      <th>y</th>\n",
              "    </tr>\n",
              "  </thead>\n",
              "  <tbody>\n",
              "    <tr>\n",
              "      <th>0</th>\n",
              "      <td>-7.87157</td>\n",
              "      <td>-4.86573</td>\n",
              "    </tr>\n",
              "    <tr>\n",
              "      <th>1</th>\n",
              "      <td>-4.76661</td>\n",
              "      <td>-6.87944</td>\n",
              "    </tr>\n",
              "    <tr>\n",
              "      <th>2</th>\n",
              "      <td>-6.67986</td>\n",
              "      <td>-5.83080</td>\n",
              "    </tr>\n",
              "    <tr>\n",
              "      <th>3</th>\n",
              "      <td>-8.93021</td>\n",
              "      <td>-4.15571</td>\n",
              "    </tr>\n",
              "    <tr>\n",
              "      <th>4</th>\n",
              "      <td>-7.91375</td>\n",
              "      <td>-4.22840</td>\n",
              "    </tr>\n",
              "  </tbody>\n",
              "</table>\n",
              "</div>"
            ],
            "text/plain": [
              "         x        y\n",
              "0 -7.87157 -4.86573\n",
              "1 -4.76661 -6.87944\n",
              "2 -6.67986 -5.83080\n",
              "3 -8.93021 -4.15571\n",
              "4 -7.91375 -4.22840"
            ]
          },
          "metadata": {
            "tags": []
          },
          "execution_count": 4
        }
      ]
    },
    {
      "cell_type": "code",
      "metadata": {
        "id": "IG0yxBAIEyMo",
        "colab_type": "code",
        "colab": {
          "base_uri": "https://localhost:8080/",
          "height": 265
        },
        "outputId": "aa53fe74-db53-465f-dee2-1367dc9ba01e"
      },
      "source": [
        "plt.scatter(np.array(df['x']),np.array(df['y']), color='b')\n",
        "\n",
        "plt.show()\n"
      ],
      "execution_count": 7,
      "outputs": [
        {
          "output_type": "display_data",
          "data": {
            "image/png": "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\n",
            "text/plain": [
              "<Figure size 432x288 with 1 Axes>"
            ]
          },
          "metadata": {
            "tags": [],
            "needs_background": "light"
          }
        }
      ]
    },
    {
      "cell_type": "markdown",
      "metadata": {
        "id": "HmegXWMZI4o0",
        "colab_type": "text"
      },
      "source": [
        "# **Task 2**: Perform the k-means clustering algorithm applying Euclidean distance as a distance measure on the given dataset. The value of k will be taken from user. "
      ]
    },
    {
      "cell_type": "code",
      "metadata": {
        "id": "T6mHPkvtIn7D",
        "colab_type": "code",
        "colab": {
          "base_uri": "https://localhost:8080/",
          "height": 68
        },
        "outputId": "c7abbb5d-7d93-4e66-9be3-57a0130100a0"
      },
      "source": [
        "k = int(input(\"Enter the value of k:\"))\n",
        "\n",
        "initialCentroid = np.array(df.sample(k))\n",
        "\n",
        "initialCentroid\n"
      ],
      "execution_count": 8,
      "outputs": [
        {
          "output_type": "stream",
          "text": [
            "Enter the value of k:2\n"
          ],
          "name": "stdout"
        },
        {
          "output_type": "execute_result",
          "data": {
            "text/plain": [
              "array([[-6.33634, -4.99913],\n",
              "       [-6.89983, -4.83355]])"
            ]
          },
          "metadata": {
            "tags": []
          },
          "execution_count": 8
        }
      ]
    },
    {
      "cell_type": "code",
      "metadata": {
        "id": "3C4Ma3pJJDwN",
        "colab_type": "code",
        "colab": {}
      },
      "source": [
        "threshold = 200;"
      ],
      "execution_count": 10,
      "outputs": []
    },
    {
      "cell_type": "code",
      "metadata": {
        "id": "aFK-ZIa_E7F5",
        "colab_type": "code",
        "colab": {
          "base_uri": "https://localhost:8080/",
          "height": 34
        },
        "outputId": "21a04923-8ecf-4821-b8dc-faadd917e3e1"
      },
      "source": [
        "for i in range(threshold):\n",
        "  distances =[] \n",
        "  for i1 in range(len(df)):\n",
        "      \n",
        "      x =[]\n",
        "      for i2 in range(k):\n",
        "\n",
        "        x.append((df['x'][i1] - initialCentroid[i2][0])**2 +  (df['y'][i1] - initialCentroid[i2][1])**2) \n",
        "\n",
        "      distances.append(x)\n",
        "  rk =[]\n",
        "    \n",
        "  for j in range(len(distances)):\n",
        "       rk.append(distances[j].index(min(distances[j])))   \n",
        "\n",
        "\n",
        "  df_temp = pd.DataFrame({'x': df['x'],\n",
        "                           'y': df['y'],\n",
        "                             'cname':rk})\n",
        "\n",
        "  df_temp1 = df_temp.sort_values('cname')\n",
        "  data =list(np.unique( df_temp1['cname']))\n",
        "  t =[]\n",
        "  for m in range(len(data)):\n",
        "    c =[]\n",
        "    n = data[m]\n",
        "    for j1 in range(len(df_temp1)):\n",
        "         if df_temp1['cname'][j1]== n:\n",
        "                 c.append([df_temp1['x'][j1],df_temp1['y'][j1]])\n",
        "\n",
        "    t.append(c)\n",
        "  centroid = []\n",
        "  for i3 in range(len(t)):\n",
        "      centroid.append(np.mean(t[i3],axis =0))\n",
        "  initialCentroid = np.array(centroid)\n",
        "\n",
        "len(t)\n"
      ],
      "execution_count": 15,
      "outputs": [
        {
          "output_type": "execute_result",
          "data": {
            "text/plain": [
              "2"
            ]
          },
          "metadata": {
            "tags": []
          },
          "execution_count": 15
        }
      ]
    },
    {
      "cell_type": "markdown",
      "metadata": {
        "id": "qgV-_HCjjMXP",
        "colab_type": "text"
      },
      "source": [
        "# **Task 3:**  Color the corresponding points on the clusters with different colors. "
      ]
    },
    {
      "cell_type": "code",
      "metadata": {
        "id": "NxzpBygZFE24",
        "colab_type": "code",
        "colab": {
          "base_uri": "https://localhost:8080/",
          "height": 265
        },
        "outputId": "e6a727c6-2dc7-4219-c505-a39ca7d3a46b"
      },
      "source": [
        "colors =['r','g','b','c','m','k','w','y']\n",
        "markers = ['*', 'o', 'v','.', 's', '+', 'd', 'p']\n",
        "\n",
        "colors[0]\n",
        "markers[0]\n",
        "\n",
        "for i in range(k):\n",
        "   for j in range(len(t[i])):\n",
        "       plt.scatter(t[i][j][0], t[i][j][1], color = colors[i], marker = markers[i])\n",
        "\n",
        "plt.show()"
      ],
      "execution_count": 16,
      "outputs": [
        {
          "output_type": "display_data",
          "data": {
            "image/png": "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\n",
            "text/plain": [
              "<Figure size 432x288 with 1 Axes>"
            ]
          },
          "metadata": {
            "tags": [],
            "needs_background": "light"
          }
        }
      ]
    },
    {
      "cell_type": "code",
      "metadata": {
        "id": "a6KqiEo4FhFb",
        "colab_type": "code",
        "colab": {}
      },
      "source": [
        ""
      ],
      "execution_count": null,
      "outputs": []
    }
  ]
}